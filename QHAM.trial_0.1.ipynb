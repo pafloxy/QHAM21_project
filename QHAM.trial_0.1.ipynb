{
 "cells": [
  {
   "cell_type": "markdown",
   "metadata": {},
   "source": [
    "## Setup "
   ]
  },
  {
   "cell_type": "code",
   "execution_count": 2,
   "metadata": {
    "ExecuteTime": {
     "end_time": "2022-03-22T04:45:54.220449Z",
     "start_time": "2022-03-22T04:45:52.110332Z"
    }
   },
   "outputs": [
    {
     "data": {
      "text/plain": [
       "'0.19.2'"
      ]
     },
     "execution_count": 2,
     "metadata": {},
     "output_type": "execute_result"
    }
   ],
   "source": [
    "## imports\n",
    "import qiskit\n",
    "from qiskit import *\n",
    "%matplotlib inline\n",
    "from qiskit.tools.visualization import plot_histogram\n",
    "from qiskit.providers.aer.noise import NoiseModel\n",
    "import qiskit.providers.aer.noise as noise\n",
    "#import qiskit.providers.models as mods\n",
    "import math\n",
    "import matplotlib\n",
    "import matplotlib.pyplot as plt\n",
    "from matplotlib import cm\n",
    "from matplotlib.colors import ListedColormap, LinearSegmentedColormap\n",
    "import numpy as np\n",
    "from matplotlib.ticker import FuncFormatter, MultipleLocator, FormatStrFormatter\n",
    "from qiskit.tools.monitor import job_monitor\n",
    "from qiskit.circuit import Parameter\n",
    "import seaborn as sns\n",
    "import pandas as pd\n",
    "from pprint import pprint\n",
    "\n",
    "#import matplotlib as mpl\n",
    "# matplotlib.rc('font',family='arial')\n",
    "\n",
    "qiskit.__version__"
   ]
  },
  {
   "cell_type": "code",
   "execution_count": 3,
   "metadata": {
    "ExecuteTime": {
     "end_time": "2022-03-22T04:46:57.347128Z",
     "start_time": "2022-03-22T04:46:47.709838Z"
    }
   },
   "outputs": [],
   "source": [
    "provider = IBMQ.load_account()\n",
    "#IBMQ.get_provider(hub='ibm-q-education', group='iit-madras-1', project='quantum-computin')\n",
    "## setup required backends \n",
    "lima = provider.get_backend('ibmq_lima')\n",
    "manila = provider.get_backend('ibmq_manila')\n",
    "#melbourne = provider.get_backend('ibmq_melbourne')\n",
    "aer = Aer.get_backend('aer_simulator')\n",
    "qsm_simulator = Aer.get_backend('qasm_simulator')\n",
    "stv_simulator = Aer.get_backend('statevector_simulator')\n",
    "\n",
    "#device = provider.get_backend('ibmq_16_melbourne') #ibmq_16_melbourne ibmqx2\n",
    "#noise_model = NoiseModel.from_backend(device)\n",
    "#pprint(vars(provider.backends))"
   ]
  },
  {
   "cell_type": "markdown",
   "metadata": {},
   "source": [
    "## Circuit"
   ]
  },
  {
   "cell_type": "code",
   "execution_count": 4,
   "metadata": {},
   "outputs": [],
   "source": [
    "## helper functions ~\n",
    "def HammingDistance(x, y):\n",
    "    \"gives Hamming distance b/w #x and #y\"\n",
    "    count = 0\n",
    "    if len(x) == len(y):\n",
    "        for _ in range(len(x)):\n",
    "            if x[_] != y[_]:\n",
    "                count += 1\n",
    "    else:\n",
    "        raise ValueError(\"Incorrect dimensions of input vectors\")\n",
    "    return count / len(x)\n",
    "\n",
    "def wmatrix(attractors):\n",
    "    \"\"\" Pass the attractors to be stored as a list 'attractors' \n",
    "        NB~ attractors should be column vectors \"\"\"   \n",
    "    l = len(attractors[0])\n",
    "    wm = np.zeros((l, l))\n",
    "\n",
    "    for atractr in attractors:\n",
    "        wm += np.outer(atractr, atractr)\n",
    "    return wm\n",
    "\n",
    "def update(qc, qubit, cntrl_reg, phi, bias):\n",
    "    \"\"\" Update 'qubit' of the circuit 'qc' \n",
    "    using 'cntrl_reg': the control qubits \"\"\"\n",
    "    cntrls = len(cntrl_reg)\n",
    "    for cntrl in range(cntrls):\n",
    "        qc.cry((phi[cntrl]), cntrl_reg[cntrl], qubit)\n",
    "    qc.ry(bias, qubit)\n",
    "    #qc.barrier()\n",
    "\n",
    "def plot_attractor(attractors,n, no_reshape= False):\n",
    "    plt.figure(figsize=(12,10))\n",
    "    if(no_reshape== True):\n",
    "        for a in range(len(attractors)):\n",
    "            plt.subplot(3, 4, a+1)\n",
    "            plt.title(\"Config \"+ str(a)+ \": \")\n",
    "            sns.heatmap(attractors[a], square= True, xticklabels=False, yticklabels=False, cbar=False)    \n",
    "    if(no_reshape== False):\n",
    "        for a in range(len(attractors)):\n",
    "            plt.subplot(3, 4, a+1)\n",
    "            plt.title(\"Config \"+ str(a)+ \": \")\n",
    "            sns.heatmap(attractors[a].reshape((n,n)), square= True, xticklabels=False, yticklabels=False, cbar=False)\n",
    "\n",
    "def pattern_matching(pat_0, patterns):\n",
    "    \"\"\" check if two patterns are same \"\"\"\n",
    "    # hamming_list = []\n",
    "    # for pattern in patterns: \n",
    "    return [HammingDistance(pat_0, pattern) for pattern in patterns]\n",
    "    \n",
    "\n",
    "## main driver code ~\n",
    "def experiment( x_0, attractors, update_all= True, measurement= 'step', q_update= [], backend = aer):\n",
    "    \n",
    "    #classical prep ~\n",
    "    l = len(attractors[0])\n",
    "    wm = wmatrix(attractors)\n",
    "    \n",
    "    #quantum prep ~\n",
    "    qnet = QuantumRegister(l, name='qnet')\n",
    "    qa = AncillaRegister(1, name='ancilla')\n",
    "    creg = ClassicalRegister(l, name='creg')\n",
    "    qc = QuantumCircuit(qnet, qa, creg)\n",
    "    for q in range(l+1):\n",
    "        qc.reset(q)\n",
    "    for q in range(l):\n",
    "        if(x_0[q] == 1):\n",
    "            qc.x(q)\n",
    "        elif(x_0[q] == 0):\n",
    "            qc.h(q)\n",
    "    qc.barrier()\n",
    "\n",
    "    #update sub-routine ~~\n",
    "    for qu in q_update:\n",
    "        qc.reset(qa)\n",
    "        controls = [cntrl for cntrl in range(l) if cntrl != qu ]\n",
    "        gamma = math.pi/( 4*wm.max()*(l-1) + 0.00001) #l-1 is because we need size of control layer\n",
    "        beta = (math.pi/4) + gamma*(-sum(wm[qu][controls]))\n",
    "        update(qc, qa, controls,4*gamma*wm[qu][controls], 2*beta )\n",
    "        qc.swap(qa, qu)\n",
    "        qc.barrier()\n",
    "        if(measurement== 'step'):\n",
    "            qc.measure(qnet, creg)    \n",
    "\n",
    "    if(measurement== 'end'):\n",
    "        qc.barrier()\n",
    "        qc.measure(qnet, creg) \n",
    "    #measurements ~~\n",
    "    # for q in range(l):\n",
    "    #     qc.measure(q, l-q-1)\n",
    "    \n",
    "    ##execute ~~\n",
    "    job = execute(qc, backend= backend, shots= 1200)\n",
    "    counts = job.result().get_counts()\n",
    "\n",
    "    reg_count = np.zeros(l)\n",
    "    for key,value in counts.items():\n",
    "        for q in range(l):\n",
    "             if key[q] == '1':\n",
    "                reg_count[q] += value\n",
    "    reg_count = np.flip(reg_count/sum(counts.values()))\n",
    "    reg_count_classical = np.array([-1 if reg_count[i]<=0.5 else 1 for i in range(len(reg_count)) ])\n",
    "\n",
    "\n",
    "    return qc, reg_count, reg_count_classical\n",
    "\n"
   ]
  },
  {
   "cell_type": "markdown",
   "metadata": {},
   "source": [
    "## Updating pattern experiment "
   ]
  },
  {
   "cell_type": "code",
   "execution_count": 5,
   "metadata": {},
   "outputs": [
    {
     "name": "stderr",
     "output_type": "stream",
     "text": [
      "account._job_result_object_storage:WARNING:2022-04-27 09:23:50,962: An error occurred while sending download completion acknowledgement: '(\\'Connection aborted.\\', OSError(\"(110, \\'ETIMEDOUT\\')\"))'\n"
     ]
    }
   ],
   "source": [
    "## Experiment: updating pattern \n",
    "n= 2 \n",
    "N = n*n\n",
    "n_attractors = math.ceil(1.6*N)\n",
    "rep = []\n",
    "ran = []\n",
    "for updates in range(1,2*N):\n",
    "    experiments= 25\n",
    "    rep_count = 0\n",
    "    ran_count = 0\n",
    "    for exp in range(experiments):\n",
    "        attractors = [np.random.choice([1, -1], size=N ) for i in range(2*N) ]\n",
    "        update_steps = updates\n",
    "        x_0 = np.random.choice([-1,0,1], size= N)\n",
    "             \n",
    "        ## random update\n",
    "        q_update_random = np.random.choice(list(range(N)), size= update_steps)\n",
    "        experiment_random_update = experiment(x_0, attractors, measurement='end',backend= lima, q_update= q_update_random)\n",
    "\n",
    "        ## repeated update\n",
    "        q_update_s = [i for i in range(N) for j in range(updates) ]\n",
    "        experiment_repeated_update = experiment(x_0, attractors, q_update= q_update_s)\n",
    "\n",
    "        if(0 in pattern_matching(experiment_repeated_update[2], attractors)): rep_count+= 1\n",
    "        if(0 in pattern_matching(experiment_random_update[2], attractors)): ran_count+= 1\n",
    "    rep.append(rep_count/exp)\n",
    "    ran.append(ran_count/exp)\n",
    "rep= np.array(rep)\n",
    "ran= np.array(ran)\n"
   ]
  },
  {
   "cell_type": "code",
   "execution_count": 12,
   "metadata": {},
   "outputs": [
    {
     "ename": "ValueError",
     "evalue": "x and y must have same first dimension, but have shapes (7,) and (9,)",
     "output_type": "error",
     "traceback": [
      "\u001b[0;31m---------------------------------------------------------------------------\u001b[0m",
      "\u001b[0;31mValueError\u001b[0m                                Traceback (most recent call last)",
      "\u001b[1;32m/home/rajarsi/Documents/QuantumML.project/QHAM.trial_0.1.ipynb Cell 8'\u001b[0m in \u001b[0;36m<cell line: 3>\u001b[0;34m()\u001b[0m\n\u001b[1;32m      <a href='vscode-notebook-cell:/home/rajarsi/Documents/QuantumML.project/QHAM.trial_0.1.ipynb#ch0000039?line=0'>1</a>\u001b[0m up \u001b[39m=\u001b[39m \u001b[39mlist\u001b[39m(\u001b[39mrange\u001b[39m(\u001b[39m1\u001b[39m,\u001b[39m2\u001b[39m\u001b[39m*\u001b[39m\u001b[39m4\u001b[39m))\n\u001b[1;32m      <a href='vscode-notebook-cell:/home/rajarsi/Documents/QuantumML.project/QHAM.trial_0.1.ipynb#ch0000039?line=1'>2</a>\u001b[0m plt\u001b[39m.\u001b[39mfigure()\n\u001b[0;32m----> <a href='vscode-notebook-cell:/home/rajarsi/Documents/QuantumML.project/QHAM.trial_0.1.ipynb#ch0000039?line=2'>3</a>\u001b[0m plt\u001b[39m.\u001b[39;49mplot(up,ran, label\u001b[39m=\u001b[39;49m \u001b[39m'\u001b[39;49m\u001b[39mrandom\u001b[39;49m\u001b[39m'\u001b[39;49m )\n\u001b[1;32m      <a href='vscode-notebook-cell:/home/rajarsi/Documents/QuantumML.project/QHAM.trial_0.1.ipynb#ch0000039?line=3'>4</a>\u001b[0m plt\u001b[39m.\u001b[39mplot(up,rep, label\u001b[39m=\u001b[39m \u001b[39m'\u001b[39m\u001b[39mrepeated\u001b[39m\u001b[39m'\u001b[39m )\n\u001b[1;32m      <a href='vscode-notebook-cell:/home/rajarsi/Documents/QuantumML.project/QHAM.trial_0.1.ipynb#ch0000039?line=4'>5</a>\u001b[0m plt\u001b[39m.\u001b[39mgrid()\n",
      "File \u001b[0;32m~/.local/lib/python3.8/site-packages/matplotlib/pyplot.py:2757\u001b[0m, in \u001b[0;36mplot\u001b[0;34m(scalex, scaley, data, *args, **kwargs)\u001b[0m\n\u001b[1;32m   <a href='file:///home/rajarsi/.local/lib/python3.8/site-packages/matplotlib/pyplot.py?line=2754'>2755</a>\u001b[0m \u001b[39m@_copy_docstring_and_deprecators\u001b[39m(Axes\u001b[39m.\u001b[39mplot)\n\u001b[1;32m   <a href='file:///home/rajarsi/.local/lib/python3.8/site-packages/matplotlib/pyplot.py?line=2755'>2756</a>\u001b[0m \u001b[39mdef\u001b[39;00m \u001b[39mplot\u001b[39m(\u001b[39m*\u001b[39margs, scalex\u001b[39m=\u001b[39m\u001b[39mTrue\u001b[39;00m, scaley\u001b[39m=\u001b[39m\u001b[39mTrue\u001b[39;00m, data\u001b[39m=\u001b[39m\u001b[39mNone\u001b[39;00m, \u001b[39m*\u001b[39m\u001b[39m*\u001b[39mkwargs):\n\u001b[0;32m-> <a href='file:///home/rajarsi/.local/lib/python3.8/site-packages/matplotlib/pyplot.py?line=2756'>2757</a>\u001b[0m     \u001b[39mreturn\u001b[39;00m gca()\u001b[39m.\u001b[39;49mplot(\n\u001b[1;32m   <a href='file:///home/rajarsi/.local/lib/python3.8/site-packages/matplotlib/pyplot.py?line=2757'>2758</a>\u001b[0m         \u001b[39m*\u001b[39;49margs, scalex\u001b[39m=\u001b[39;49mscalex, scaley\u001b[39m=\u001b[39;49mscaley,\n\u001b[1;32m   <a href='file:///home/rajarsi/.local/lib/python3.8/site-packages/matplotlib/pyplot.py?line=2758'>2759</a>\u001b[0m         \u001b[39m*\u001b[39;49m\u001b[39m*\u001b[39;49m({\u001b[39m\"\u001b[39;49m\u001b[39mdata\u001b[39;49m\u001b[39m\"\u001b[39;49m: data} \u001b[39mif\u001b[39;49;00m data \u001b[39mis\u001b[39;49;00m \u001b[39mnot\u001b[39;49;00m \u001b[39mNone\u001b[39;49;00m \u001b[39melse\u001b[39;49;00m {}), \u001b[39m*\u001b[39;49m\u001b[39m*\u001b[39;49mkwargs)\n",
      "File \u001b[0;32m~/.local/lib/python3.8/site-packages/matplotlib/axes/_axes.py:1632\u001b[0m, in \u001b[0;36mAxes.plot\u001b[0;34m(self, scalex, scaley, data, *args, **kwargs)\u001b[0m\n\u001b[1;32m   <a href='file:///home/rajarsi/.local/lib/python3.8/site-packages/matplotlib/axes/_axes.py?line=1389'>1390</a>\u001b[0m \u001b[39m\"\"\"\u001b[39;00m\n\u001b[1;32m   <a href='file:///home/rajarsi/.local/lib/python3.8/site-packages/matplotlib/axes/_axes.py?line=1390'>1391</a>\u001b[0m \u001b[39mPlot y versus x as lines and/or markers.\u001b[39;00m\n\u001b[1;32m   <a href='file:///home/rajarsi/.local/lib/python3.8/site-packages/matplotlib/axes/_axes.py?line=1391'>1392</a>\u001b[0m \n\u001b[0;32m   (...)\u001b[0m\n\u001b[1;32m   <a href='file:///home/rajarsi/.local/lib/python3.8/site-packages/matplotlib/axes/_axes.py?line=1628'>1629</a>\u001b[0m \u001b[39m(``'green'``) or hex strings (``'#008000'``).\u001b[39;00m\n\u001b[1;32m   <a href='file:///home/rajarsi/.local/lib/python3.8/site-packages/matplotlib/axes/_axes.py?line=1629'>1630</a>\u001b[0m \u001b[39m\"\"\"\u001b[39;00m\n\u001b[1;32m   <a href='file:///home/rajarsi/.local/lib/python3.8/site-packages/matplotlib/axes/_axes.py?line=1630'>1631</a>\u001b[0m kwargs \u001b[39m=\u001b[39m cbook\u001b[39m.\u001b[39mnormalize_kwargs(kwargs, mlines\u001b[39m.\u001b[39mLine2D)\n\u001b[0;32m-> <a href='file:///home/rajarsi/.local/lib/python3.8/site-packages/matplotlib/axes/_axes.py?line=1631'>1632</a>\u001b[0m lines \u001b[39m=\u001b[39m [\u001b[39m*\u001b[39m\u001b[39mself\u001b[39m\u001b[39m.\u001b[39m_get_lines(\u001b[39m*\u001b[39margs, data\u001b[39m=\u001b[39mdata, \u001b[39m*\u001b[39m\u001b[39m*\u001b[39mkwargs)]\n\u001b[1;32m   <a href='file:///home/rajarsi/.local/lib/python3.8/site-packages/matplotlib/axes/_axes.py?line=1632'>1633</a>\u001b[0m \u001b[39mfor\u001b[39;00m line \u001b[39min\u001b[39;00m lines:\n\u001b[1;32m   <a href='file:///home/rajarsi/.local/lib/python3.8/site-packages/matplotlib/axes/_axes.py?line=1633'>1634</a>\u001b[0m     \u001b[39mself\u001b[39m\u001b[39m.\u001b[39madd_line(line)\n",
      "File \u001b[0;32m~/.local/lib/python3.8/site-packages/matplotlib/axes/_base.py:312\u001b[0m, in \u001b[0;36m_process_plot_var_args.__call__\u001b[0;34m(self, data, *args, **kwargs)\u001b[0m\n\u001b[1;32m    <a href='file:///home/rajarsi/.local/lib/python3.8/site-packages/matplotlib/axes/_base.py?line=309'>310</a>\u001b[0m     this \u001b[39m+\u001b[39m\u001b[39m=\u001b[39m args[\u001b[39m0\u001b[39m],\n\u001b[1;32m    <a href='file:///home/rajarsi/.local/lib/python3.8/site-packages/matplotlib/axes/_base.py?line=310'>311</a>\u001b[0m     args \u001b[39m=\u001b[39m args[\u001b[39m1\u001b[39m:]\n\u001b[0;32m--> <a href='file:///home/rajarsi/.local/lib/python3.8/site-packages/matplotlib/axes/_base.py?line=311'>312</a>\u001b[0m \u001b[39myield from\u001b[39;00m \u001b[39mself\u001b[39;49m\u001b[39m.\u001b[39;49m_plot_args(this, kwargs)\n",
      "File \u001b[0;32m~/.local/lib/python3.8/site-packages/matplotlib/axes/_base.py:498\u001b[0m, in \u001b[0;36m_process_plot_var_args._plot_args\u001b[0;34m(self, tup, kwargs, return_kwargs)\u001b[0m\n\u001b[1;32m    <a href='file:///home/rajarsi/.local/lib/python3.8/site-packages/matplotlib/axes/_base.py?line=494'>495</a>\u001b[0m     \u001b[39mself\u001b[39m\u001b[39m.\u001b[39maxes\u001b[39m.\u001b[39myaxis\u001b[39m.\u001b[39mupdate_units(y)\n\u001b[1;32m    <a href='file:///home/rajarsi/.local/lib/python3.8/site-packages/matplotlib/axes/_base.py?line=496'>497</a>\u001b[0m \u001b[39mif\u001b[39;00m x\u001b[39m.\u001b[39mshape[\u001b[39m0\u001b[39m] \u001b[39m!=\u001b[39m y\u001b[39m.\u001b[39mshape[\u001b[39m0\u001b[39m]:\n\u001b[0;32m--> <a href='file:///home/rajarsi/.local/lib/python3.8/site-packages/matplotlib/axes/_base.py?line=497'>498</a>\u001b[0m     \u001b[39mraise\u001b[39;00m \u001b[39mValueError\u001b[39;00m(\u001b[39mf\u001b[39m\u001b[39m\"\u001b[39m\u001b[39mx and y must have same first dimension, but \u001b[39m\u001b[39m\"\u001b[39m\n\u001b[1;32m    <a href='file:///home/rajarsi/.local/lib/python3.8/site-packages/matplotlib/axes/_base.py?line=498'>499</a>\u001b[0m                      \u001b[39mf\u001b[39m\u001b[39m\"\u001b[39m\u001b[39mhave shapes \u001b[39m\u001b[39m{\u001b[39;00mx\u001b[39m.\u001b[39mshape\u001b[39m}\u001b[39;00m\u001b[39m and \u001b[39m\u001b[39m{\u001b[39;00my\u001b[39m.\u001b[39mshape\u001b[39m}\u001b[39;00m\u001b[39m\"\u001b[39m)\n\u001b[1;32m    <a href='file:///home/rajarsi/.local/lib/python3.8/site-packages/matplotlib/axes/_base.py?line=499'>500</a>\u001b[0m \u001b[39mif\u001b[39;00m x\u001b[39m.\u001b[39mndim \u001b[39m>\u001b[39m \u001b[39m2\u001b[39m \u001b[39mor\u001b[39;00m y\u001b[39m.\u001b[39mndim \u001b[39m>\u001b[39m \u001b[39m2\u001b[39m:\n\u001b[1;32m    <a href='file:///home/rajarsi/.local/lib/python3.8/site-packages/matplotlib/axes/_base.py?line=500'>501</a>\u001b[0m     \u001b[39mraise\u001b[39;00m \u001b[39mValueError\u001b[39;00m(\u001b[39mf\u001b[39m\u001b[39m\"\u001b[39m\u001b[39mx and y can be no greater than 2D, but have \u001b[39m\u001b[39m\"\u001b[39m\n\u001b[1;32m    <a href='file:///home/rajarsi/.local/lib/python3.8/site-packages/matplotlib/axes/_base.py?line=501'>502</a>\u001b[0m                      \u001b[39mf\u001b[39m\u001b[39m\"\u001b[39m\u001b[39mshapes \u001b[39m\u001b[39m{\u001b[39;00mx\u001b[39m.\u001b[39mshape\u001b[39m}\u001b[39;00m\u001b[39m and \u001b[39m\u001b[39m{\u001b[39;00my\u001b[39m.\u001b[39mshape\u001b[39m}\u001b[39;00m\u001b[39m\"\u001b[39m)\n",
      "\u001b[0;31mValueError\u001b[0m: x and y must have same first dimension, but have shapes (7,) and (9,)"
     ]
    },
    {
     "data": {
      "image/png": "[encoded data removed]",
      "text/plain": [
       "<Figure size 432x288 with 1 Axes>"
      ]
     },
     "metadata": {
      "needs_background": "light"
     },
     "output_type": "display_data"
    }
   ],
   "source": [
    "up = list(range(1,2*4))\n",
    "plt.figure()\n",
    "plt.plot(up,ran, label= 'random' )\n",
    "plt.plot(up,rep, label= 'repeated' )\n",
    "plt.grid()\n",
    "plt.legend()\n",
    "plt.xlabel('no. of updates')"
   ]
  },
  {
   "cell_type": "code",
   "execution_count": null,
   "metadata": {},
   "outputs": [
    {
     "data": {
      "text/plain": [
       "Text(0, 0.5, '% of correct retrieval')"
      ]
     },
     "execution_count": 102,
     "metadata": {},
     "output_type": "execute_result"
    },
    {
     "data": {
      "image/png": "[encoded data removed]",
      "text/plain": [
       "<Figure size 432x288 with 1 Axes>"
      ]
     },
     "metadata": {
      "needs_background": "light"
     },
     "output_type": "display_data"
    }
   ],
   "source": [
    "up = list(range(1,2*N))\n",
    "plt.figure()\n",
    "plt.plot(up,ran, label= 'random' )\n",
    "plt.plot(up,rep, label= 'repeated' )\n",
    "plt.grid()\n",
    "plt.legend()\n",
    "plt.xlabel('no. of updates')\n",
    "plt.ylabel('% of correct retrieval')"
   ]
  },
  {
   "cell_type": "code",
   "execution_count": 7,
   "metadata": {},
   "outputs": [],
   "source": [
    "## Experiment: updating pattern \n",
    "# n= 2 \n",
    "N = 5\n",
    "n_attractors = math.ceil(1.6*N)\n",
    "rep = []\n",
    "ran = []\n",
    "for updates in range(1,2*N):\n",
    "    experiments= 25 \n",
    "    rep_count = 0\n",
    "    ran_count = 0\n",
    "    for exp in range(experiments):\n",
    "        attractors = [np.random.choice([1, -1], size=N ) for i in range(2*N) ]\n",
    "        update_steps = updates\n",
    "        x_0 = np.random.choice([-1,0,1], size= N)\n",
    "             \n",
    "        ## random update\n",
    "        q_update_random = np.random.choice(list(range(N)), size= update_steps)\n",
    "        experiment_random_update = experiment(x_0, attractors, measurement='end',backend= aer, q_update= q_update_random)\n",
    "\n",
    "        ## repeated update\n",
    "        q_update_s = [i for i in range(N) for j in range(updates) ]\n",
    "        experiment_repeated_update = experiment(x_0, attractors, q_update= q_update_s)\n",
    "\n",
    "        if(0 in pattern_matching(experiment_repeated_update[2], attractors)): rep_count+= 1\n",
    "        if(0 in pattern_matching(experiment_random_update[2], attractors)): ran_count+= 1\n",
    "    rep.append(rep_count/exp)\n",
    "    ran.append(ran_count/exp)\n",
    "rep6= np.array(rep)\n",
    "ran6= np.array(ran)\n"
   ]
  },
  {
   "cell_type": "code",
   "execution_count": 9,
   "metadata": {},
   "outputs": [
    {
     "data": {
      "text/plain": [
       "Text(0, 0.5, '% of correct retrieval')"
      ]
     },
     "execution_count": 9,
     "metadata": {},
     "output_type": "execute_result"
    },
    {
     "data": {
      "image/png": "[encoded data removed]",
      "text/plain": [
       "<Figure size 432x288 with 1 Axes>"
      ]
     },
     "metadata": {
      "needs_background": "light"
     },
     "output_type": "display_data"
    }
   ],
   "source": [
    "up = list(range(1,2*N))\n",
    "plt.figure()\n",
    "plt.plot(up,ran6, label= 'random' )\n",
    "plt.plot(up,rep6, label= 'repeated' )\n",
    "plt.grid()\n",
    "plt.legend()\n",
    "plt.xlabel('no. of updates')\n",
    "plt.ylabel('% of correct retrieval')"
   ]
  },
  {
   "cell_type": "code",
   "execution_count": 6,
   "metadata": {},
   "outputs": [],
   "source": [
    "## Experiment: updating pattern \n",
    "# n= 4 \n",
    "N = 8\n",
    "n_attractors = math.ceil(1.6*N)\n",
    "rep = []\n",
    "ran = []\n",
    "for updates in range(1,2*N):\n",
    "    experiments= 25 \n",
    "    rep_count = 0\n",
    "    ran_count = 0\n",
    "    for exp in range(experiments):\n",
    "        attractors = [np.random.choice([1, -1], size=N ) for i in range(2*N) ]\n",
    "        update_steps = updates\n",
    "        x_0 = np.random.choice([-1,0,1], size= N)\n",
    "             \n",
    "        ## random update\n",
    "        q_update_random = np.random.choice(list(range(N)), size= update_steps)\n",
    "        experiment_random_update = experiment(x_0, attractors, measurement='end', q_update= q_update_random)\n",
    "\n",
    "        ## repeated update\n",
    "        q_update_s = [i for i in range(N) for j in range(updates) ]\n",
    "        experiment_repeated_update = experiment(x_0, attractors, q_update= q_update_s)\n",
    "\n",
    "        if(0 in pattern_matching(experiment_repeated_update[2], attractors)): rep_count+= 1\n",
    "        if(0 in pattern_matching(experiment_random_update[2], attractors)): ran_count+= 1\n",
    "    rep.append(rep_count/exp)\n",
    "    ran.append(ran_count/exp)\n",
    "rep8= np.array(rep)\n",
    "ran8= np.array(ran)\n"
   ]
  },
  {
   "cell_type": "code",
   "execution_count": 10,
   "metadata": {},
   "outputs": [
    {
     "data": {
      "text/plain": [
       "Text(0, 0.5, '% of correct retrieval')"
      ]
     },
     "execution_count": 10,
     "metadata": {},
     "output_type": "execute_result"
    },
    {
     "data": {
      "image/png": "[encoded data removed]",
      "text/plain": [
       "<Figure size 432x288 with 1 Axes>"
      ]
     },
     "metadata": {
      "needs_background": "light"
     },
     "output_type": "display_data"
    }
   ],
   "source": [
    "N= 8\n",
    "up = list(range(1,2*N))\n",
    "plt.figure()\n",
    "plt.plot(up,ran8, label= 'random' )\n",
    "plt.plot(up,rep8, label= 'repeated' )\n",
    "plt.grid()\n",
    "plt.legend()\n",
    "plt.xlabel('no. of updates')\n",
    "plt.ylabel('% of correct retrieval')"
   ]
  },
  {
   "cell_type": "code",
   "execution_count": 35,
   "metadata": {},
   "outputs": [
    {
     "data": {
      "text/plain": [
       "<AxesSubplot:>"
      ]
     },
     "execution_count": 35,
     "metadata": {},
     "output_type": "execute_result"
    },
    {
     "data": {
      "image/png": "[encoded data removed]",
      "text/plain": [
       "<Figure size 432x288 with 1 Axes>"
      ]
     },
     "metadata": {},
     "output_type": "display_data"
    }
   ],
   "source": [
    "x_0 = np.random.choice([-1,0,1], size= N)\n",
    "sns.heatmap(x_0.reshape(2,2), square= True, xticklabels=False, yticklabels=False, cbar=False)"
   ]
  },
  {
   "cell_type": "code",
   "execution_count": 76,
   "metadata": {},
   "outputs": [],
   "source": [
    "## Random update\n",
    "q_update_random = np.random.choice(list(range(n)), size= update_steps)\n",
    "experiment_random_update = experiment(x_0, attractors,measurement='end', q_update= q_update_random)\n",
    "\n",
    "## repeated update\n",
    "q_update_s = [i for i in range(N) for j in range(N) ]\n",
    "experiment_repeated_update = experiment(x_0, attractors, q_update= q_update_s)"
   ]
  },
  {
   "cell_type": "code",
   "execution_count": 67,
   "metadata": {},
   "outputs": [
    {
     "data": {
      "text/html": [
       "<pre style=\"word-wrap: normal;white-space: pre;background: #fff0;line-height: 1.1;font-family: &quot;Courier New&quot;,Courier,monospace\">              ┌───┐ ░                                                     ░ »\n",
       " qnet_0: ─|0>─┤ H ├─░──────────■──────────────────────────────────────────░─»\n",
       "              ├───┤ ░          │                                          ░ »\n",
       " qnet_1: ─|0>─┤ H ├─░──────────┼───────────────────────────────────────X──░─»\n",
       "              ├───┤ ░          │                                       │  ░ »\n",
       " qnet_2: ─|0>─┤ H ├─░──────────┼─────────■─────────────────────────────┼──░─»\n",
       "              ├───┤ ░          │         │                             │  ░ »\n",
       " qnet_3: ─|0>─┤ H ├─░──────────┼─────────┼──────────■──────────────────┼──░─»\n",
       "              └───┘ ░      ┌───┴───┐┌────┴─────┐┌───┴───┐┌───────────┐ │  ░ »\n",
       "ancilla: ─|0>───────░──|0>─┤ Ry(0) ├┤ Ry(-π/6) ├┤ Ry(0) ├┤ Ry(7π/12) ├─X──░─»\n",
       "                    ░      └───────┘└──────────┘└───────┘└───────────┘    ░ »\n",
       " creg: 4/═══════════════════════════════════════════════════════════════════»\n",
       "                                                                            »\n",
       "«                                                            ░               »\n",
       "« qnet_0: ────────────────────────────────────────────────X──░──────────■────»\n",
       "«                                                         │  ░          │    »\n",
       "« qnet_1: ─────────■──────────────────────────────────────┼──░──────────┼────»\n",
       "«                  │                                      │  ░          │    »\n",
       "« qnet_2: ─────────┼────────■─────────────────────────────┼──░──────────┼────»\n",
       "«                  │        │                             │  ░          │    »\n",
       "« qnet_3: ─────────┼────────┼─────────■───────────────────┼──░──────────┼────»\n",
       "«              ┌───┴───┐┌───┴───┐┌────┴────┐┌───────────┐ │  ░      ┌───┴───┐»\n",
       "«ancilla: ─|0>─┤ Ry(0) ├┤ Ry(0) ├┤ Ry(π/6) ├┤ Ry(5π/12) ├─X──░──|0>─┤ Ry(0) ├»\n",
       "«              └───────┘└───────┘└─────────┘└───────────┘    ░      └───────┘»\n",
       "« creg: 4/═══════════════════════════════════════════════════════════════════»\n",
       "«                                                                            »\n",
       "«                                               ░                        »\n",
       "« qnet_0: ──────────────────────────────────────░────────────────────────»\n",
       "«                                               ░                        »\n",
       "« qnet_1: ───────────────────────────────────X──░──────────■─────────────»\n",
       "«                                            │  ░          │             »\n",
       "« qnet_2: ─────■─────────────────────────────┼──░──────────┼────────■────»\n",
       "«              │                             │  ░          │        │    »\n",
       "« qnet_3: ─────┼──────────■──────────────────┼──░──────────┼────────┼────»\n",
       "«         ┌────┴─────┐┌───┴───┐┌───────────┐ │  ░      ┌───┴───┐┌───┴───┐»\n",
       "«ancilla: ┤ Ry(-π/6) ├┤ Ry(0) ├┤ Ry(7π/12) ├─X──░──|0>─┤ Ry(0) ├┤ Ry(0) ├»\n",
       "«         └──────────┘└───────┘└───────────┘    ░      └───────┘└───────┘»\n",
       "« creg: 4/═══════════════════════════════════════════════════════════════»\n",
       "«                                                                        »\n",
       "«                                     ░  ░ ┌─┐         \n",
       "« qnet_0: ─────────────────────────X──░──░─┤M├─────────\n",
       "«                                  │  ░  ░ └╥┘┌─┐      \n",
       "« qnet_1: ─────────────────────────┼──░──░──╫─┤M├──────\n",
       "«                                  │  ░  ░  ║ └╥┘┌─┐   \n",
       "« qnet_2: ─────────────────────────┼──░──░──╫──╫─┤M├───\n",
       "«                                  │  ░  ░  ║  ║ └╥┘┌─┐\n",
       "« qnet_3: ─────■───────────────────┼──░──░──╫──╫──╫─┤M├\n",
       "«         ┌────┴────┐┌───────────┐ │  ░  ░  ║  ║  ║ └╥┘\n",
       "«ancilla: ┤ Ry(π/6) ├┤ Ry(5π/12) ├─X──░──░──╫──╫──╫──╫─\n",
       "«         └─────────┘└───────────┘    ░  ░  ║  ║  ║  ║ \n",
       "« creg: 4/══════════════════════════════════╩══╩══╩══╩═\n",
       "«                                           0  1  2  3 </pre>"
      ],
      "text/plain": [
       "              ┌───┐ ░                                                     ░ »\n",
       " qnet_0: ─|0>─┤ H ├─░──────────■──────────────────────────────────────────░─»\n",
       "              ├───┤ ░          │                                          ░ »\n",
       " qnet_1: ─|0>─┤ H ├─░──────────┼───────────────────────────────────────X──░─»\n",
       "              ├───┤ ░          │                                       │  ░ »\n",
       " qnet_2: ─|0>─┤ H ├─░──────────┼─────────■─────────────────────────────┼──░─»\n",
       "              ├───┤ ░          │         │                             │  ░ »\n",
       " qnet_3: ─|0>─┤ H ├─░──────────┼─────────┼──────────■──────────────────┼──░─»\n",
       "              └───┘ ░      ┌───┴───┐┌────┴─────┐┌───┴───┐┌───────────┐ │  ░ »\n",
       "ancilla: ─|0>───────░──|0>─┤ Ry(0) ├┤ Ry(-π/6) ├┤ Ry(0) ├┤ Ry(7π/12) ├─X──░─»\n",
       "                    ░      └───────┘└──────────┘└───────┘└───────────┘    ░ »\n",
       " creg: 4/═══════════════════════════════════════════════════════════════════»\n",
       "                                                                            »\n",
       "«                                                            ░               »\n",
       "« qnet_0: ────────────────────────────────────────────────X──░──────────■────»\n",
       "«                                                         │  ░          │    »\n",
       "« qnet_1: ─────────■──────────────────────────────────────┼──░──────────┼────»\n",
       "«                  │                                      │  ░          │    »\n",
       "« qnet_2: ─────────┼────────■─────────────────────────────┼──░──────────┼────»\n",
       "«                  │        │                             │  ░          │    »\n",
       "« qnet_3: ─────────┼────────┼─────────■───────────────────┼──░──────────┼────»\n",
       "«              ┌───┴───┐┌───┴───┐┌────┴────┐┌───────────┐ │  ░      ┌───┴───┐»\n",
       "«ancilla: ─|0>─┤ Ry(0) ├┤ Ry(0) ├┤ Ry(π/6) ├┤ Ry(5π/12) ├─X──░──|0>─┤ Ry(0) ├»\n",
       "«              └───────┘└───────┘└─────────┘└───────────┘    ░      └───────┘»\n",
       "« creg: 4/═══════════════════════════════════════════════════════════════════»\n",
       "«                                                                            »\n",
       "«                                               ░                        »\n",
       "« qnet_0: ──────────────────────────────────────░────────────────────────»\n",
       "«                                               ░                        »\n",
       "« qnet_1: ───────────────────────────────────X──░──────────■─────────────»\n",
       "«                                            │  ░          │             »\n",
       "« qnet_2: ─────■─────────────────────────────┼──░──────────┼────────■────»\n",
       "«              │                             │  ░          │        │    »\n",
       "« qnet_3: ─────┼──────────■──────────────────┼──░──────────┼────────┼────»\n",
       "«         ┌────┴─────┐┌───┴───┐┌───────────┐ │  ░      ┌───┴───┐┌───┴───┐»\n",
       "«ancilla: ┤ Ry(-π/6) ├┤ Ry(0) ├┤ Ry(7π/12) ├─X──░──|0>─┤ Ry(0) ├┤ Ry(0) ├»\n",
       "«         └──────────┘└───────┘└───────────┘    ░      └───────┘└───────┘»\n",
       "« creg: 4/═══════════════════════════════════════════════════════════════»\n",
       "«                                                                        »\n",
       "«                                     ░  ░ ┌─┐         \n",
       "« qnet_0: ─────────────────────────X──░──░─┤M├─────────\n",
       "«                                  │  ░  ░ └╥┘┌─┐      \n",
       "« qnet_1: ─────────────────────────┼──░──░──╫─┤M├──────\n",
       "«                                  │  ░  ░  ║ └╥┘┌─┐   \n",
       "« qnet_2: ─────────────────────────┼──░──░──╫──╫─┤M├───\n",
       "«                                  │  ░  ░  ║  ║ └╥┘┌─┐\n",
       "« qnet_3: ─────■───────────────────┼──░──░──╫──╫──╫─┤M├\n",
       "«         ┌────┴────┐┌───────────┐ │  ░  ░  ║  ║  ║ └╥┘\n",
       "«ancilla: ┤ Ry(π/6) ├┤ Ry(5π/12) ├─X──░──░──╫──╫──╫──╫─\n",
       "«         └─────────┘└───────────┘    ░  ░  ║  ║  ║  ║ \n",
       "« creg: 4/══════════════════════════════════╩══╩══╩══╩═\n",
       "«                                           0  1  2  3 "
      ]
     },
     "execution_count": 67,
     "metadata": {},
     "output_type": "execute_result"
    }
   ],
   "source": [
    "experiment_random_update[0].draw()"
   ]
  },
  {
   "cell_type": "code",
   "execution_count": 49,
   "metadata": {},
   "outputs": [
    {
     "data": {
      "text/html": [
       "<pre style=\"word-wrap: normal;white-space: pre;background: #fff0;line-height: 1.1;font-family: &quot;Courier New&quot;,Courier,monospace\">              ┌───┐ ░                                                    ░ ┌─┐»\n",
       " qnet_0: ─|0>─┤ H ├─░─────────────────────────────────────────────────X──░─┤M├»\n",
       "              ├───┤ ░                                                 │  ░ └╥┘»\n",
       " qnet_1: ─|0>─┤ H ├─░──────────■──────────────────────────────────────┼──░──╫─»\n",
       "              ├───┤ ░          │                                      │  ░  ║ »\n",
       " qnet_2: ─|0>─┤ H ├─░──────────┼────────■─────────────────────────────┼──░──╫─»\n",
       "              ├───┤ ░          │        │                             │  ░  ║ »\n",
       " qnet_3: ─|0>─┤ H ├─░──────────┼────────┼─────────■───────────────────┼──░──╫─»\n",
       "              └───┘ ░      ┌───┴───┐┌───┴───┐┌────┴────┐┌───────────┐ │  ░  ║ »\n",
       "ancilla: ─|0>───────░──|0>─┤ Ry(0) ├┤ Ry(0) ├┤ Ry(π/6) ├┤ Ry(5π/12) ├─X──░──╫─»\n",
       "                    ░      └───────┘└───────┘└─────────┘└───────────┘    ░  ║ »\n",
       " creg: 4/═══════════════════════════════════════════════════════════════════╩═»\n",
       "                                                                            0 »\n",
       "«                                                                     ░ ┌─┐   »\n",
       "« qnet_0: ─────────────────────────────────────────────────────────X──░─┤M├───»\n",
       "«         ┌─┐                                                      │  ░ └╥┘┌─┐»\n",
       "« qnet_1: ┤M├───────────────■──────────────────────────────────────┼──░──╫─┤M├»\n",
       "«         └╥┘┌─┐            │                                      │  ░  ║ └╥┘»\n",
       "« qnet_2: ─╫─┤M├────────────┼────────■─────────────────────────────┼──░──╫──╫─»\n",
       "«          ║ └╥┘┌─┐         │        │                             │  ░  ║  ║ »\n",
       "« qnet_3: ─╫──╫─┤M├─────────┼────────┼─────────■───────────────────┼──░──╫──╫─»\n",
       "«          ║  ║ └╥┘     ┌───┴───┐┌───┴───┐┌────┴────┐┌───────────┐ │  ░  ║  ║ »\n",
       "«ancilla: ─╫──╫──╫──|0>─┤ Ry(0) ├┤ Ry(0) ├┤ Ry(π/6) ├┤ Ry(5π/12) ├─X──░──╫──╫─»\n",
       "«          ║  ║  ║      └───────┘└───────┘└─────────┘└───────────┘    ░  ║  ║ »\n",
       "« creg: 4/═╩══╩══╩═══════════════════════════════════════════════════════╩══╩═»\n",
       "«          1  2  3                                                       0  1 »\n",
       "«                                                                  ░ ┌─┐      »\n",
       "« qnet_0: ──────────────────────────────────────────────────────X──░─┤M├──────»\n",
       "«                                                               │  ░ └╥┘┌─┐   »\n",
       "« qnet_1: ───────────────■──────────────────────────────────────┼──░──╫─┤M├───»\n",
       "«         ┌─┐            │                                      │  ░  ║ └╥┘┌─┐»\n",
       "« qnet_2: ┤M├────────────┼────────■─────────────────────────────┼──░──╫──╫─┤M├»\n",
       "«         └╥┘┌─┐         │        │                             │  ░  ║  ║ └╥┘»\n",
       "« qnet_3: ─╫─┤M├─────────┼────────┼─────────■───────────────────┼──░──╫──╫──╫─»\n",
       "«          ║ └╥┘     ┌───┴───┐┌───┴───┐┌────┴────┐┌───────────┐ │  ░  ║  ║  ║ »\n",
       "«ancilla: ─╫──╫──|0>─┤ Ry(0) ├┤ Ry(0) ├┤ Ry(π/6) ├┤ Ry(5π/12) ├─X──░──╫──╫──╫─»\n",
       "«          ║  ║      └───────┘└───────┘└─────────┘└───────────┘    ░  ║  ║  ║ »\n",
       "« creg: 4/═╩══╩═══════════════════════════════════════════════════════╩══╩══╩═»\n",
       "«          2  3                                                       0  1  2 »\n",
       "«                                                               ░ ┌─┐         »\n",
       "« qnet_0: ───────────────────────────────────────────────────X──░─┤M├─────────»\n",
       "«                                                            │  ░ └╥┘┌─┐      »\n",
       "« qnet_1: ────────────■──────────────────────────────────────┼──░──╫─┤M├──────»\n",
       "«                     │                                      │  ░  ║ └╥┘┌─┐   »\n",
       "« qnet_2: ────────────┼────────■─────────────────────────────┼──░──╫──╫─┤M├───»\n",
       "«         ┌─┐         │        │                             │  ░  ║  ║ └╥┘┌─┐»\n",
       "« qnet_3: ┤M├─────────┼────────┼─────────■───────────────────┼──░──╫──╫──╫─┤M├»\n",
       "«         └╥┘     ┌───┴───┐┌───┴───┐┌────┴────┐┌───────────┐ │  ░  ║  ║  ║ └╥┘»\n",
       "«ancilla: ─╫──|0>─┤ Ry(0) ├┤ Ry(0) ├┤ Ry(π/6) ├┤ Ry(5π/12) ├─X──░──╫──╫──╫──╫─»\n",
       "«          ║      └───────┘└───────┘└─────────┘└───────────┘    ░  ║  ║  ║  ║ »\n",
       "« creg: 4/═╩═══════════════════════════════════════════════════════╩══╩══╩══╩═»\n",
       "«          3                                                       0  1  2  3 »\n",
       "«                                                             ░ ┌─┐         »\n",
       "« qnet_0: ─────────■──────────────────────────────────────────░─┤M├─────────»\n",
       "«                  │                                          ░ └╥┘┌─┐      »\n",
       "« qnet_1: ─────────┼───────────────────────────────────────X──░──╫─┤M├──────»\n",
       "«                  │                                       │  ░  ║ └╥┘┌─┐   »\n",
       "« qnet_2: ─────────┼─────────■─────────────────────────────┼──░──╫──╫─┤M├───»\n",
       "«                  │         │                             │  ░  ║  ║ └╥┘┌─┐»\n",
       "« qnet_3: ─────────┼─────────┼──────────■──────────────────┼──░──╫──╫──╫─┤M├»\n",
       "«              ┌───┴───┐┌────┴─────┐┌───┴───┐┌───────────┐ │  ░  ║  ║  ║ └╥┘»\n",
       "«ancilla: ─|0>─┤ Ry(0) ├┤ Ry(-π/6) ├┤ Ry(0) ├┤ Ry(7π/12) ├─X──░──╫──╫──╫──╫─»\n",
       "«              └───────┘└──────────┘└───────┘└───────────┘    ░  ║  ║  ║  ║ »\n",
       "« creg: 4/═══════════════════════════════════════════════════════╩══╩══╩══╩═»\n",
       "«                                                                0  1  2  3 »\n",
       "«                                                             ░ ┌─┐         »\n",
       "« qnet_0: ─────────■──────────────────────────────────────────░─┤M├─────────»\n",
       "«                  │                                          ░ └╥┘┌─┐      »\n",
       "« qnet_1: ─────────┼───────────────────────────────────────X──░──╫─┤M├──────»\n",
       "«                  │                                       │  ░  ║ └╥┘┌─┐   »\n",
       "« qnet_2: ─────────┼─────────■─────────────────────────────┼──░──╫──╫─┤M├───»\n",
       "«                  │         │                             │  ░  ║  ║ └╥┘┌─┐»\n",
       "« qnet_3: ─────────┼─────────┼──────────■──────────────────┼──░──╫──╫──╫─┤M├»\n",
       "«              ┌───┴───┐┌────┴─────┐┌───┴───┐┌───────────┐ │  ░  ║  ║  ║ └╥┘»\n",
       "«ancilla: ─|0>─┤ Ry(0) ├┤ Ry(-π/6) ├┤ Ry(0) ├┤ Ry(7π/12) ├─X──░──╫──╫──╫──╫─»\n",
       "«              └───────┘└──────────┘└───────┘└───────────┘    ░  ║  ║  ║  ║ »\n",
       "« creg: 4/═══════════════════════════════════════════════════════╩══╩══╩══╩═»\n",
       "«                                                                0  1  2  3 »\n",
       "«                                                             ░ ┌─┐         »\n",
       "« qnet_0: ─────────■──────────────────────────────────────────░─┤M├─────────»\n",
       "«                  │                                          ░ └╥┘┌─┐      »\n",
       "« qnet_1: ─────────┼───────────────────────────────────────X──░──╫─┤M├──────»\n",
       "«                  │                                       │  ░  ║ └╥┘┌─┐   »\n",
       "« qnet_2: ─────────┼─────────■─────────────────────────────┼──░──╫──╫─┤M├───»\n",
       "«                  │         │                             │  ░  ║  ║ └╥┘┌─┐»\n",
       "« qnet_3: ─────────┼─────────┼──────────■──────────────────┼──░──╫──╫──╫─┤M├»\n",
       "«              ┌───┴───┐┌────┴─────┐┌───┴───┐┌───────────┐ │  ░  ║  ║  ║ └╥┘»\n",
       "«ancilla: ─|0>─┤ Ry(0) ├┤ Ry(-π/6) ├┤ Ry(0) ├┤ Ry(7π/12) ├─X──░──╫──╫──╫──╫─»\n",
       "«              └───────┘└──────────┘└───────┘└───────────┘    ░  ║  ║  ║  ║ »\n",
       "« creg: 4/═══════════════════════════════════════════════════════╩══╩══╩══╩═»\n",
       "«                                                                0  1  2  3 »\n",
       "«                                                             ░ ┌─┐         »\n",
       "« qnet_0: ─────────■──────────────────────────────────────────░─┤M├─────────»\n",
       "«                  │                                          ░ └╥┘┌─┐      »\n",
       "« qnet_1: ─────────┼───────────────────────────────────────X──░──╫─┤M├──────»\n",
       "«                  │                                       │  ░  ║ └╥┘┌─┐   »\n",
       "« qnet_2: ─────────┼─────────■─────────────────────────────┼──░──╫──╫─┤M├───»\n",
       "«                  │         │                             │  ░  ║  ║ └╥┘┌─┐»\n",
       "« qnet_3: ─────────┼─────────┼──────────■──────────────────┼──░──╫──╫──╫─┤M├»\n",
       "«              ┌───┴───┐┌────┴─────┐┌───┴───┐┌───────────┐ │  ░  ║  ║  ║ └╥┘»\n",
       "«ancilla: ─|0>─┤ Ry(0) ├┤ Ry(-π/6) ├┤ Ry(0) ├┤ Ry(7π/12) ├─X──░──╫──╫──╫──╫─»\n",
       "«              └───────┘└──────────┘└───────┘└───────────┘    ░  ║  ║  ║  ║ »\n",
       "« creg: 4/═══════════════════════════════════════════════════════╩══╩══╩══╩═»\n",
       "«                                                                0  1  2  3 »\n",
       "«                                                               ░ ┌─┐         »\n",
       "« qnet_0: ─────────■────────────────────────────────────────────░─┤M├─────────»\n",
       "«                  │                                            ░ └╥┘┌─┐      »\n",
       "« qnet_1: ─────────┼─────────■──────────────────────────────────░──╫─┤M├──────»\n",
       "«                  │         │                                  ░  ║ └╥┘┌─┐   »\n",
       "« qnet_2: ─────────┼─────────┼───────────────────────────────X──░──╫──╫─┤M├───»\n",
       "«                  │         │                               │  ░  ║  ║ └╥┘┌─┐»\n",
       "« qnet_3: ─────────┼─────────┼───────────■───────────────────┼──░──╫──╫──╫─┤M├»\n",
       "«              ┌───┴───┐┌────┴─────┐┌────┴─────┐┌──────────┐ │  ░  ║  ║  ║ └╥┘»\n",
       "«ancilla: ─|0>─┤ Ry(0) ├┤ Ry(-π/6) ├┤ Ry(-π/6) ├┤ Ry(2π/3) ├─X──░──╫──╫──╫──╫─»\n",
       "«              └───────┘└──────────┘└──────────┘└──────────┘    ░  ║  ║  ║  ║ »\n",
       "« creg: 4/═════════════════════════════════════════════════════════╩══╩══╩══╩═»\n",
       "«                                                                  0  1  2  3 »\n",
       "«                                                               ░ ┌─┐         »\n",
       "« qnet_0: ─────────■────────────────────────────────────────────░─┤M├─────────»\n",
       "«                  │                                            ░ └╥┘┌─┐      »\n",
       "« qnet_1: ─────────┼─────────■──────────────────────────────────░──╫─┤M├──────»\n",
       "«                  │         │                                  ░  ║ └╥┘┌─┐   »\n",
       "« qnet_2: ─────────┼─────────┼───────────────────────────────X──░──╫──╫─┤M├───»\n",
       "«                  │         │                               │  ░  ║  ║ └╥┘┌─┐»\n",
       "« qnet_3: ─────────┼─────────┼───────────■───────────────────┼──░──╫──╫──╫─┤M├»\n",
       "«              ┌───┴───┐┌────┴─────┐┌────┴─────┐┌──────────┐ │  ░  ║  ║  ║ └╥┘»\n",
       "«ancilla: ─|0>─┤ Ry(0) ├┤ Ry(-π/6) ├┤ Ry(-π/6) ├┤ Ry(2π/3) ├─X──░──╫──╫──╫──╫─»\n",
       "«              └───────┘└──────────┘└──────────┘└──────────┘    ░  ║  ║  ║  ║ »\n",
       "« creg: 4/═════════════════════════════════════════════════════════╩══╩══╩══╩═»\n",
       "«                                                                  0  1  2  3 »\n",
       "«                                                               ░ ┌─┐         »\n",
       "« qnet_0: ─────────■────────────────────────────────────────────░─┤M├─────────»\n",
       "«                  │                                            ░ └╥┘┌─┐      »\n",
       "« qnet_1: ─────────┼─────────■──────────────────────────────────░──╫─┤M├──────»\n",
       "«                  │         │                                  ░  ║ └╥┘┌─┐   »\n",
       "« qnet_2: ─────────┼─────────┼───────────────────────────────X──░──╫──╫─┤M├───»\n",
       "«                  │         │                               │  ░  ║  ║ └╥┘┌─┐»\n",
       "« qnet_3: ─────────┼─────────┼───────────■───────────────────┼──░──╫──╫──╫─┤M├»\n",
       "«              ┌───┴───┐┌────┴─────┐┌────┴─────┐┌──────────┐ │  ░  ║  ║  ║ └╥┘»\n",
       "«ancilla: ─|0>─┤ Ry(0) ├┤ Ry(-π/6) ├┤ Ry(-π/6) ├┤ Ry(2π/3) ├─X──░──╫──╫──╫──╫─»\n",
       "«              └───────┘└──────────┘└──────────┘└──────────┘    ░  ║  ║  ║  ║ »\n",
       "« creg: 4/═════════════════════════════════════════════════════════╩══╩══╩══╩═»\n",
       "«                                                                  0  1  2  3 »\n",
       "«                                                               ░ ┌─┐         »\n",
       "« qnet_0: ─────────■────────────────────────────────────────────░─┤M├─────────»\n",
       "«                  │                                            ░ └╥┘┌─┐      »\n",
       "« qnet_1: ─────────┼─────────■──────────────────────────────────░──╫─┤M├──────»\n",
       "«                  │         │                                  ░  ║ └╥┘┌─┐   »\n",
       "« qnet_2: ─────────┼─────────┼───────────────────────────────X──░──╫──╫─┤M├───»\n",
       "«                  │         │                               │  ░  ║  ║ └╥┘┌─┐»\n",
       "« qnet_3: ─────────┼─────────┼───────────■───────────────────┼──░──╫──╫──╫─┤M├»\n",
       "«              ┌───┴───┐┌────┴─────┐┌────┴─────┐┌──────────┐ │  ░  ║  ║  ║ └╥┘»\n",
       "«ancilla: ─|0>─┤ Ry(0) ├┤ Ry(-π/6) ├┤ Ry(-π/6) ├┤ Ry(2π/3) ├─X──░──╫──╫──╫──╫─»\n",
       "«              └───────┘└──────────┘└──────────┘└──────────┘    ░  ║  ║  ║  ║ »\n",
       "« creg: 4/═════════════════════════════════════════════════════════╩══╩══╩══╩═»\n",
       "«                                                                  0  1  2  3 »\n",
       "«                                                             ░ ┌─┐         »\n",
       "« qnet_0: ──────────■─────────────────────────────────────────░─┤M├─────────»\n",
       "«                   │                                         ░ └╥┘┌─┐      »\n",
       "« qnet_1: ──────────┼─────────■───────────────────────────────░──╫─┤M├──────»\n",
       "«                   │         │                               ░  ║ └╥┘┌─┐   »\n",
       "« qnet_2: ──────────┼─────────┼─────────■─────────────────────░──╫──╫─┤M├───»\n",
       "«                   │         │         │                     ░  ║  ║ └╥┘┌─┐»\n",
       "« qnet_3: ──────────┼─────────┼─────────┼──────────────────X──░──╫──╫──╫─┤M├»\n",
       "«              ┌────┴────┐┌───┴───┐┌────┴─────┐┌─────────┐ │  ░  ║  ║  ║ └╥┘»\n",
       "«ancilla: ─|0>─┤ Ry(π/6) ├┤ Ry(0) ├┤ Ry(-π/6) ├┤ Ry(π/2) ├─X──░──╫──╫──╫──╫─»\n",
       "«              └─────────┘└───────┘└──────────┘└─────────┘    ░  ║  ║  ║  ║ »\n",
       "« creg: 4/═══════════════════════════════════════════════════════╩══╩══╩══╩═»\n",
       "«                                                                0  1  2  3 »\n",
       "«                                                             ░ ┌─┐         »\n",
       "« qnet_0: ──────────■─────────────────────────────────────────░─┤M├─────────»\n",
       "«                   │                                         ░ └╥┘┌─┐      »\n",
       "« qnet_1: ──────────┼─────────■───────────────────────────────░──╫─┤M├──────»\n",
       "«                   │         │                               ░  ║ └╥┘┌─┐   »\n",
       "« qnet_2: ──────────┼─────────┼─────────■─────────────────────░──╫──╫─┤M├───»\n",
       "«                   │         │         │                     ░  ║  ║ └╥┘┌─┐»\n",
       "« qnet_3: ──────────┼─────────┼─────────┼──────────────────X──░──╫──╫──╫─┤M├»\n",
       "«              ┌────┴────┐┌───┴───┐┌────┴─────┐┌─────────┐ │  ░  ║  ║  ║ └╥┘»\n",
       "«ancilla: ─|0>─┤ Ry(π/6) ├┤ Ry(0) ├┤ Ry(-π/6) ├┤ Ry(π/2) ├─X──░──╫──╫──╫──╫─»\n",
       "«              └─────────┘└───────┘└──────────┘└─────────┘    ░  ║  ║  ║  ║ »\n",
       "« creg: 4/═══════════════════════════════════════════════════════╩══╩══╩══╩═»\n",
       "«                                                                0  1  2  3 »\n",
       "«                                                             ░ ┌─┐         »\n",
       "« qnet_0: ──────────■─────────────────────────────────────────░─┤M├─────────»\n",
       "«                   │                                         ░ └╥┘┌─┐      »\n",
       "« qnet_1: ──────────┼─────────■───────────────────────────────░──╫─┤M├──────»\n",
       "«                   │         │                               ░  ║ └╥┘┌─┐   »\n",
       "« qnet_2: ──────────┼─────────┼─────────■─────────────────────░──╫──╫─┤M├───»\n",
       "«                   │         │         │                     ░  ║  ║ └╥┘┌─┐»\n",
       "« qnet_3: ──────────┼─────────┼─────────┼──────────────────X──░──╫──╫──╫─┤M├»\n",
       "«              ┌────┴────┐┌───┴───┐┌────┴─────┐┌─────────┐ │  ░  ║  ║  ║ └╥┘»\n",
       "«ancilla: ─|0>─┤ Ry(π/6) ├┤ Ry(0) ├┤ Ry(-π/6) ├┤ Ry(π/2) ├─X──░──╫──╫──╫──╫─»\n",
       "«              └─────────┘└───────┘└──────────┘└─────────┘    ░  ║  ║  ║  ║ »\n",
       "« creg: 4/═══════════════════════════════════════════════════════╩══╩══╩══╩═»\n",
       "«                                                                0  1  2  3 »\n",
       "«                                                             ░ ┌─┐         \n",
       "« qnet_0: ──────────■─────────────────────────────────────────░─┤M├─────────\n",
       "«                   │                                         ░ └╥┘┌─┐      \n",
       "« qnet_1: ──────────┼─────────■───────────────────────────────░──╫─┤M├──────\n",
       "«                   │         │                               ░  ║ └╥┘┌─┐   \n",
       "« qnet_2: ──────────┼─────────┼─────────■─────────────────────░──╫──╫─┤M├───\n",
       "«                   │         │         │                     ░  ║  ║ └╥┘┌─┐\n",
       "« qnet_3: ──────────┼─────────┼─────────┼──────────────────X──░──╫──╫──╫─┤M├\n",
       "«              ┌────┴────┐┌───┴───┐┌────┴─────┐┌─────────┐ │  ░  ║  ║  ║ └╥┘\n",
       "«ancilla: ─|0>─┤ Ry(π/6) ├┤ Ry(0) ├┤ Ry(-π/6) ├┤ Ry(π/2) ├─X──░──╫──╫──╫──╫─\n",
       "«              └─────────┘└───────┘└──────────┘└─────────┘    ░  ║  ║  ║  ║ \n",
       "« creg: 4/═══════════════════════════════════════════════════════╩══╩══╩══╩═\n",
       "«                                                                0  1  2  3 </pre>"
      ],
      "text/plain": [
       "              ┌───┐ ░                                                    ░ ┌─┐»\n",
       " qnet_0: ─|0>─┤ H ├─░─────────────────────────────────────────────────X──░─┤M├»\n",
       "              ├───┤ ░                                                 │  ░ └╥┘»\n",
       " qnet_1: ─|0>─┤ H ├─░──────────■──────────────────────────────────────┼──░──╫─»\n",
       "              ├───┤ ░          │                                      │  ░  ║ »\n",
       " qnet_2: ─|0>─┤ H ├─░──────────┼────────■─────────────────────────────┼──░──╫─»\n",
       "              ├───┤ ░          │        │                             │  ░  ║ »\n",
       " qnet_3: ─|0>─┤ H ├─░──────────┼────────┼─────────■───────────────────┼──░──╫─»\n",
       "              └───┘ ░      ┌───┴───┐┌───┴───┐┌────┴────┐┌───────────┐ │  ░  ║ »\n",
       "ancilla: ─|0>───────░──|0>─┤ Ry(0) ├┤ Ry(0) ├┤ Ry(π/6) ├┤ Ry(5π/12) ├─X──░──╫─»\n",
       "                    ░      └───────┘└───────┘└─────────┘└───────────┘    ░  ║ »\n",
       " creg: 4/═══════════════════════════════════════════════════════════════════╩═»\n",
       "                                                                            0 »\n",
       "«                                                                     ░ ┌─┐   »\n",
       "« qnet_0: ─────────────────────────────────────────────────────────X──░─┤M├───»\n",
       "«         ┌─┐                                                      │  ░ └╥┘┌─┐»\n",
       "« qnet_1: ┤M├───────────────■──────────────────────────────────────┼──░──╫─┤M├»\n",
       "«         └╥┘┌─┐            │                                      │  ░  ║ └╥┘»\n",
       "« qnet_2: ─╫─┤M├────────────┼────────■─────────────────────────────┼──░──╫──╫─»\n",
       "«          ║ └╥┘┌─┐         │        │                             │  ░  ║  ║ »\n",
       "« qnet_3: ─╫──╫─┤M├─────────┼────────┼─────────■───────────────────┼──░──╫──╫─»\n",
       "«          ║  ║ └╥┘     ┌───┴───┐┌───┴───┐┌────┴────┐┌───────────┐ │  ░  ║  ║ »\n",
       "«ancilla: ─╫──╫──╫──|0>─┤ Ry(0) ├┤ Ry(0) ├┤ Ry(π/6) ├┤ Ry(5π/12) ├─X──░──╫──╫─»\n",
       "«          ║  ║  ║      └───────┘└───────┘└─────────┘└───────────┘    ░  ║  ║ »\n",
       "« creg: 4/═╩══╩══╩═══════════════════════════════════════════════════════╩══╩═»\n",
       "«          1  2  3                                                       0  1 »\n",
       "«                                                                  ░ ┌─┐      »\n",
       "« qnet_0: ──────────────────────────────────────────────────────X──░─┤M├──────»\n",
       "«                                                               │  ░ └╥┘┌─┐   »\n",
       "« qnet_1: ───────────────■──────────────────────────────────────┼──░──╫─┤M├───»\n",
       "«         ┌─┐            │                                      │  ░  ║ └╥┘┌─┐»\n",
       "« qnet_2: ┤M├────────────┼────────■─────────────────────────────┼──░──╫──╫─┤M├»\n",
       "«         └╥┘┌─┐         │        │                             │  ░  ║  ║ └╥┘»\n",
       "« qnet_3: ─╫─┤M├─────────┼────────┼─────────■───────────────────┼──░──╫──╫──╫─»\n",
       "«          ║ └╥┘     ┌───┴───┐┌───┴───┐┌────┴────┐┌───────────┐ │  ░  ║  ║  ║ »\n",
       "«ancilla: ─╫──╫──|0>─┤ Ry(0) ├┤ Ry(0) ├┤ Ry(π/6) ├┤ Ry(5π/12) ├─X──░──╫──╫──╫─»\n",
       "«          ║  ║      └───────┘└───────┘└─────────┘└───────────┘    ░  ║  ║  ║ »\n",
       "« creg: 4/═╩══╩═══════════════════════════════════════════════════════╩══╩══╩═»\n",
       "«          2  3                                                       0  1  2 »\n",
       "«                                                               ░ ┌─┐         »\n",
       "« qnet_0: ───────────────────────────────────────────────────X──░─┤M├─────────»\n",
       "«                                                            │  ░ └╥┘┌─┐      »\n",
       "« qnet_1: ────────────■──────────────────────────────────────┼──░──╫─┤M├──────»\n",
       "«                     │                                      │  ░  ║ └╥┘┌─┐   »\n",
       "« qnet_2: ────────────┼────────■─────────────────────────────┼──░──╫──╫─┤M├───»\n",
       "«         ┌─┐         │        │                             │  ░  ║  ║ └╥┘┌─┐»\n",
       "« qnet_3: ┤M├─────────┼────────┼─────────■───────────────────┼──░──╫──╫──╫─┤M├»\n",
       "«         └╥┘     ┌───┴───┐┌───┴───┐┌────┴────┐┌───────────┐ │  ░  ║  ║  ║ └╥┘»\n",
       "«ancilla: ─╫──|0>─┤ Ry(0) ├┤ Ry(0) ├┤ Ry(π/6) ├┤ Ry(5π/12) ├─X──░──╫──╫──╫──╫─»\n",
       "«          ║      └───────┘└───────┘└─────────┘└───────────┘    ░  ║  ║  ║  ║ »\n",
       "« creg: 4/═╩═══════════════════════════════════════════════════════╩══╩══╩══╩═»\n",
       "«          3                                                       0  1  2  3 »\n",
       "«                                                             ░ ┌─┐         »\n",
       "« qnet_0: ─────────■──────────────────────────────────────────░─┤M├─────────»\n",
       "«                  │                                          ░ └╥┘┌─┐      »\n",
       "« qnet_1: ─────────┼───────────────────────────────────────X──░──╫─┤M├──────»\n",
       "«                  │                                       │  ░  ║ └╥┘┌─┐   »\n",
       "« qnet_2: ─────────┼─────────■─────────────────────────────┼──░──╫──╫─┤M├───»\n",
       "«                  │         │                             │  ░  ║  ║ └╥┘┌─┐»\n",
       "« qnet_3: ─────────┼─────────┼──────────■──────────────────┼──░──╫──╫──╫─┤M├»\n",
       "«              ┌───┴───┐┌────┴─────┐┌───┴───┐┌───────────┐ │  ░  ║  ║  ║ └╥┘»\n",
       "«ancilla: ─|0>─┤ Ry(0) ├┤ Ry(-π/6) ├┤ Ry(0) ├┤ Ry(7π/12) ├─X──░──╫──╫──╫──╫─»\n",
       "«              └───────┘└──────────┘└───────┘└───────────┘    ░  ║  ║  ║  ║ »\n",
       "« creg: 4/═══════════════════════════════════════════════════════╩══╩══╩══╩═»\n",
       "«                                                                0  1  2  3 »\n",
       "«                                                             ░ ┌─┐         »\n",
       "« qnet_0: ─────────■──────────────────────────────────────────░─┤M├─────────»\n",
       "«                  │                                          ░ └╥┘┌─┐      »\n",
       "« qnet_1: ─────────┼───────────────────────────────────────X──░──╫─┤M├──────»\n",
       "«                  │                                       │  ░  ║ └╥┘┌─┐   »\n",
       "« qnet_2: ─────────┼─────────■─────────────────────────────┼──░──╫──╫─┤M├───»\n",
       "«                  │         │                             │  ░  ║  ║ └╥┘┌─┐»\n",
       "« qnet_3: ─────────┼─────────┼──────────■──────────────────┼──░──╫──╫──╫─┤M├»\n",
       "«              ┌───┴───┐┌────┴─────┐┌───┴───┐┌───────────┐ │  ░  ║  ║  ║ └╥┘»\n",
       "«ancilla: ─|0>─┤ Ry(0) ├┤ Ry(-π/6) ├┤ Ry(0) ├┤ Ry(7π/12) ├─X──░──╫──╫──╫──╫─»\n",
       "«              └───────┘└──────────┘└───────┘└───────────┘    ░  ║  ║  ║  ║ »\n",
       "« creg: 4/═══════════════════════════════════════════════════════╩══╩══╩══╩═»\n",
       "«                                                                0  1  2  3 »\n",
       "«                                                             ░ ┌─┐         »\n",
       "« qnet_0: ─────────■──────────────────────────────────────────░─┤M├─────────»\n",
       "«                  │                                          ░ └╥┘┌─┐      »\n",
       "« qnet_1: ─────────┼───────────────────────────────────────X──░──╫─┤M├──────»\n",
       "«                  │                                       │  ░  ║ └╥┘┌─┐   »\n",
       "« qnet_2: ─────────┼─────────■─────────────────────────────┼──░──╫──╫─┤M├───»\n",
       "«                  │         │                             │  ░  ║  ║ └╥┘┌─┐»\n",
       "« qnet_3: ─────────┼─────────┼──────────■──────────────────┼──░──╫──╫──╫─┤M├»\n",
       "«              ┌───┴───┐┌────┴─────┐┌───┴───┐┌───────────┐ │  ░  ║  ║  ║ └╥┘»\n",
       "«ancilla: ─|0>─┤ Ry(0) ├┤ Ry(-π/6) ├┤ Ry(0) ├┤ Ry(7π/12) ├─X──░──╫──╫──╫──╫─»\n",
       "«              └───────┘└──────────┘└───────┘└───────────┘    ░  ║  ║  ║  ║ »\n",
       "« creg: 4/═══════════════════════════════════════════════════════╩══╩══╩══╩═»\n",
       "«                                                                0  1  2  3 »\n",
       "«                                                             ░ ┌─┐         »\n",
       "« qnet_0: ─────────■──────────────────────────────────────────░─┤M├─────────»\n",
       "«                  │                                          ░ └╥┘┌─┐      »\n",
       "« qnet_1: ─────────┼───────────────────────────────────────X──░──╫─┤M├──────»\n",
       "«                  │                                       │  ░  ║ └╥┘┌─┐   »\n",
       "« qnet_2: ─────────┼─────────■─────────────────────────────┼──░──╫──╫─┤M├───»\n",
       "«                  │         │                             │  ░  ║  ║ └╥┘┌─┐»\n",
       "« qnet_3: ─────────┼─────────┼──────────■──────────────────┼──░──╫──╫──╫─┤M├»\n",
       "«              ┌───┴───┐┌────┴─────┐┌───┴───┐┌───────────┐ │  ░  ║  ║  ║ └╥┘»\n",
       "«ancilla: ─|0>─┤ Ry(0) ├┤ Ry(-π/6) ├┤ Ry(0) ├┤ Ry(7π/12) ├─X──░──╫──╫──╫──╫─»\n",
       "«              └───────┘└──────────┘└───────┘└───────────┘    ░  ║  ║  ║  ║ »\n",
       "« creg: 4/═══════════════════════════════════════════════════════╩══╩══╩══╩═»\n",
       "«                                                                0  1  2  3 »\n",
       "«                                                               ░ ┌─┐         »\n",
       "« qnet_0: ─────────■────────────────────────────────────────────░─┤M├─────────»\n",
       "«                  │                                            ░ └╥┘┌─┐      »\n",
       "« qnet_1: ─────────┼─────────■──────────────────────────────────░──╫─┤M├──────»\n",
       "«                  │         │                                  ░  ║ └╥┘┌─┐   »\n",
       "« qnet_2: ─────────┼─────────┼───────────────────────────────X──░──╫──╫─┤M├───»\n",
       "«                  │         │                               │  ░  ║  ║ └╥┘┌─┐»\n",
       "« qnet_3: ─────────┼─────────┼───────────■───────────────────┼──░──╫──╫──╫─┤M├»\n",
       "«              ┌───┴───┐┌────┴─────┐┌────┴─────┐┌──────────┐ │  ░  ║  ║  ║ └╥┘»\n",
       "«ancilla: ─|0>─┤ Ry(0) ├┤ Ry(-π/6) ├┤ Ry(-π/6) ├┤ Ry(2π/3) ├─X──░──╫──╫──╫──╫─»\n",
       "«              └───────┘└──────────┘└──────────┘└──────────┘    ░  ║  ║  ║  ║ »\n",
       "« creg: 4/═════════════════════════════════════════════════════════╩══╩══╩══╩═»\n",
       "«                                                                  0  1  2  3 »\n",
       "«                                                               ░ ┌─┐         »\n",
       "« qnet_0: ─────────■────────────────────────────────────────────░─┤M├─────────»\n",
       "«                  │                                            ░ └╥┘┌─┐      »\n",
       "« qnet_1: ─────────┼─────────■──────────────────────────────────░──╫─┤M├──────»\n",
       "«                  │         │                                  ░  ║ └╥┘┌─┐   »\n",
       "« qnet_2: ─────────┼─────────┼───────────────────────────────X──░──╫──╫─┤M├───»\n",
       "«                  │         │                               │  ░  ║  ║ └╥┘┌─┐»\n",
       "« qnet_3: ─────────┼─────────┼───────────■───────────────────┼──░──╫──╫──╫─┤M├»\n",
       "«              ┌───┴───┐┌────┴─────┐┌────┴─────┐┌──────────┐ │  ░  ║  ║  ║ └╥┘»\n",
       "«ancilla: ─|0>─┤ Ry(0) ├┤ Ry(-π/6) ├┤ Ry(-π/6) ├┤ Ry(2π/3) ├─X──░──╫──╫──╫──╫─»\n",
       "«              └───────┘└──────────┘└──────────┘└──────────┘    ░  ║  ║  ║  ║ »\n",
       "« creg: 4/═════════════════════════════════════════════════════════╩══╩══╩══╩═»\n",
       "«                                                                  0  1  2  3 »\n",
       "«                                                               ░ ┌─┐         »\n",
       "« qnet_0: ─────────■────────────────────────────────────────────░─┤M├─────────»\n",
       "«                  │                                            ░ └╥┘┌─┐      »\n",
       "« qnet_1: ─────────┼─────────■──────────────────────────────────░──╫─┤M├──────»\n",
       "«                  │         │                                  ░  ║ └╥┘┌─┐   »\n",
       "« qnet_2: ─────────┼─────────┼───────────────────────────────X──░──╫──╫─┤M├───»\n",
       "«                  │         │                               │  ░  ║  ║ └╥┘┌─┐»\n",
       "« qnet_3: ─────────┼─────────┼───────────■───────────────────┼──░──╫──╫──╫─┤M├»\n",
       "«              ┌───┴───┐┌────┴─────┐┌────┴─────┐┌──────────┐ │  ░  ║  ║  ║ └╥┘»\n",
       "«ancilla: ─|0>─┤ Ry(0) ├┤ Ry(-π/6) ├┤ Ry(-π/6) ├┤ Ry(2π/3) ├─X──░──╫──╫──╫──╫─»\n",
       "«              └───────┘└──────────┘└──────────┘└──────────┘    ░  ║  ║  ║  ║ »\n",
       "« creg: 4/═════════════════════════════════════════════════════════╩══╩══╩══╩═»\n",
       "«                                                                  0  1  2  3 »\n",
       "«                                                               ░ ┌─┐         »\n",
       "« qnet_0: ─────────■────────────────────────────────────────────░─┤M├─────────»\n",
       "«                  │                                            ░ └╥┘┌─┐      »\n",
       "« qnet_1: ─────────┼─────────■──────────────────────────────────░──╫─┤M├──────»\n",
       "«                  │         │                                  ░  ║ └╥┘┌─┐   »\n",
       "« qnet_2: ─────────┼─────────┼───────────────────────────────X──░──╫──╫─┤M├───»\n",
       "«                  │         │                               │  ░  ║  ║ └╥┘┌─┐»\n",
       "« qnet_3: ─────────┼─────────┼───────────■───────────────────┼──░──╫──╫──╫─┤M├»\n",
       "«              ┌───┴───┐┌────┴─────┐┌────┴─────┐┌──────────┐ │  ░  ║  ║  ║ └╥┘»\n",
       "«ancilla: ─|0>─┤ Ry(0) ├┤ Ry(-π/6) ├┤ Ry(-π/6) ├┤ Ry(2π/3) ├─X──░──╫──╫──╫──╫─»\n",
       "«              └───────┘└──────────┘└──────────┘└──────────┘    ░  ║  ║  ║  ║ »\n",
       "« creg: 4/═════════════════════════════════════════════════════════╩══╩══╩══╩═»\n",
       "«                                                                  0  1  2  3 »\n",
       "«                                                             ░ ┌─┐         »\n",
       "« qnet_0: ──────────■─────────────────────────────────────────░─┤M├─────────»\n",
       "«                   │                                         ░ └╥┘┌─┐      »\n",
       "« qnet_1: ──────────┼─────────■───────────────────────────────░──╫─┤M├──────»\n",
       "«                   │         │                               ░  ║ └╥┘┌─┐   »\n",
       "« qnet_2: ──────────┼─────────┼─────────■─────────────────────░──╫──╫─┤M├───»\n",
       "«                   │         │         │                     ░  ║  ║ └╥┘┌─┐»\n",
       "« qnet_3: ──────────┼─────────┼─────────┼──────────────────X──░──╫──╫──╫─┤M├»\n",
       "«              ┌────┴────┐┌───┴───┐┌────┴─────┐┌─────────┐ │  ░  ║  ║  ║ └╥┘»\n",
       "«ancilla: ─|0>─┤ Ry(π/6) ├┤ Ry(0) ├┤ Ry(-π/6) ├┤ Ry(π/2) ├─X──░──╫──╫──╫──╫─»\n",
       "«              └─────────┘└───────┘└──────────┘└─────────┘    ░  ║  ║  ║  ║ »\n",
       "« creg: 4/═══════════════════════════════════════════════════════╩══╩══╩══╩═»\n",
       "«                                                                0  1  2  3 »\n",
       "«                                                             ░ ┌─┐         »\n",
       "« qnet_0: ──────────■─────────────────────────────────────────░─┤M├─────────»\n",
       "«                   │                                         ░ └╥┘┌─┐      »\n",
       "« qnet_1: ──────────┼─────────■───────────────────────────────░──╫─┤M├──────»\n",
       "«                   │         │                               ░  ║ └╥┘┌─┐   »\n",
       "« qnet_2: ──────────┼─────────┼─────────■─────────────────────░──╫──╫─┤M├───»\n",
       "«                   │         │         │                     ░  ║  ║ └╥┘┌─┐»\n",
       "« qnet_3: ──────────┼─────────┼─────────┼──────────────────X──░──╫──╫──╫─┤M├»\n",
       "«              ┌────┴────┐┌───┴───┐┌────┴─────┐┌─────────┐ │  ░  ║  ║  ║ └╥┘»\n",
       "«ancilla: ─|0>─┤ Ry(π/6) ├┤ Ry(0) ├┤ Ry(-π/6) ├┤ Ry(π/2) ├─X──░──╫──╫──╫──╫─»\n",
       "«              └─────────┘└───────┘└──────────┘└─────────┘    ░  ║  ║  ║  ║ »\n",
       "« creg: 4/═══════════════════════════════════════════════════════╩══╩══╩══╩═»\n",
       "«                                                                0  1  2  3 »\n",
       "«                                                             ░ ┌─┐         »\n",
       "« qnet_0: ──────────■─────────────────────────────────────────░─┤M├─────────»\n",
       "«                   │                                         ░ └╥┘┌─┐      »\n",
       "« qnet_1: ──────────┼─────────■───────────────────────────────░──╫─┤M├──────»\n",
       "«                   │         │                               ░  ║ └╥┘┌─┐   »\n",
       "« qnet_2: ──────────┼─────────┼─────────■─────────────────────░──╫──╫─┤M├───»\n",
       "«                   │         │         │                     ░  ║  ║ └╥┘┌─┐»\n",
       "« qnet_3: ──────────┼─────────┼─────────┼──────────────────X──░──╫──╫──╫─┤M├»\n",
       "«              ┌────┴────┐┌───┴───┐┌────┴─────┐┌─────────┐ │  ░  ║  ║  ║ └╥┘»\n",
       "«ancilla: ─|0>─┤ Ry(π/6) ├┤ Ry(0) ├┤ Ry(-π/6) ├┤ Ry(π/2) ├─X──░──╫──╫──╫──╫─»\n",
       "«              └─────────┘└───────┘└──────────┘└─────────┘    ░  ║  ║  ║  ║ »\n",
       "« creg: 4/═══════════════════════════════════════════════════════╩══╩══╩══╩═»\n",
       "«                                                                0  1  2  3 »\n",
       "«                                                             ░ ┌─┐         \n",
       "« qnet_0: ──────────■─────────────────────────────────────────░─┤M├─────────\n",
       "«                   │                                         ░ └╥┘┌─┐      \n",
       "« qnet_1: ──────────┼─────────■───────────────────────────────░──╫─┤M├──────\n",
       "«                   │         │                               ░  ║ └╥┘┌─┐   \n",
       "« qnet_2: ──────────┼─────────┼─────────■─────────────────────░──╫──╫─┤M├───\n",
       "«                   │         │         │                     ░  ║  ║ └╥┘┌─┐\n",
       "« qnet_3: ──────────┼─────────┼─────────┼──────────────────X──░──╫──╫──╫─┤M├\n",
       "«              ┌────┴────┐┌───┴───┐┌────┴─────┐┌─────────┐ │  ░  ║  ║  ║ └╥┘\n",
       "«ancilla: ─|0>─┤ Ry(π/6) ├┤ Ry(0) ├┤ Ry(-π/6) ├┤ Ry(π/2) ├─X──░──╫──╫──╫──╫─\n",
       "«              └─────────┘└───────┘└──────────┘└─────────┘    ░  ║  ║  ║  ║ \n",
       "« creg: 4/═══════════════════════════════════════════════════════╩══╩══╩══╩═\n",
       "«                                                                0  1  2  3 "
      ]
     },
     "execution_count": 49,
     "metadata": {},
     "output_type": "execute_result"
    }
   ],
   "source": [
    "experiment_repeated_update[0].draw()"
   ]
  },
  {
   "cell_type": "code",
   "execution_count": 77,
   "metadata": {},
   "outputs": [],
   "source": [
    "l = pattern_matching(x_0, attractors),pattern_matching(experiment_repeated_update[2], attractors)\n",
    "# pattern_matching(experiment_random_update[2], attractors),pattern_matching(experiment_repeated_update[2], attractors)"
   ]
  },
  {
   "cell_type": "code",
   "execution_count": 79,
   "metadata": {},
   "outputs": [
    {
     "data": {
      "text/plain": [
       "True"
      ]
     },
     "execution_count": 79,
     "metadata": {},
     "output_type": "execute_result"
    }
   ],
   "source": [
    " 0 in l[1]"
   ]
  },
  {
   "cell_type": "code",
   "execution_count": 59,
   "metadata": {},
   "outputs": [
    {
     "data": {
      "text/plain": [
       "([1.0, 1.0, 1.0, 1.0, 1.0, 1.0, 1.0, 1.0],\n",
       " [0.25, 0.75, 0.25, 0.75, 0.5, 0.75, 1.0, 0.25])"
      ]
     },
     "execution_count": 59,
     "metadata": {},
     "output_type": "execute_result"
    }
   ],
   "source": [
    "pattern_matching(x_0, attractors),pattern_matching(experiment_random_update[2], attractors)\n",
    "# pattern_matching(experiment_random_update[2], attractors),pattern_matching(experiment_repeated_update[2], attractors)"
   ]
  },
  {
   "cell_type": "code",
   "execution_count": 60,
   "metadata": {},
   "outputs": [
    {
     "data": {
      "text/plain": [
       "<AxesSubplot:>"
      ]
     },
     "execution_count": 60,
     "metadata": {},
     "output_type": "execute_result"
    },
    {
     "data": {
      "image/png": "[encoded data removed]",
      "text/plain": [
       "<Figure size 432x288 with 1 Axes>"
      ]
     },
     "metadata": {
      "needs_background": "light"
     },
     "output_type": "display_data"
    }
   ],
   "source": [
    "sns.heatmap( experiment_repeated_update[1].reshape(n,n), square= True,cbar= False, annot= True )"
   ]
  },
  {
   "cell_type": "code",
   "execution_count": 61,
   "metadata": {},
   "outputs": [
    {
     "data": {
      "text/plain": [
       "<AxesSubplot:>"
      ]
     },
     "execution_count": 61,
     "metadata": {},
     "output_type": "execute_result"
    },
    {
     "data": {
      "image/png": "[encoded data removed]",
      "text/plain": [
       "<Figure size 432x288 with 1 Axes>"
      ]
     },
     "metadata": {
      "needs_background": "light"
     },
     "output_type": "display_data"
    }
   ],
   "source": [
    "sns.heatmap( experiment_repeated_update[2].reshape(n,n), square= True,cbar= False, annot= True )"
   ]
  },
  {
   "cell_type": "code",
   "execution_count": 64,
   "metadata": {},
   "outputs": [
    {
     "data": {
      "text/plain": [
       "<AxesSubplot:>"
      ]
     },
     "execution_count": 64,
     "metadata": {},
     "output_type": "execute_result"
    },
    {
     "data": {
      "image/png": "[encoded data removed]",
      "text/plain": [
       "<Figure size 432x288 with 1 Axes>"
      ]
     },
     "metadata": {
      "needs_background": "light"
     },
     "output_type": "display_data"
    }
   ],
   "source": [
    "sns.heatmap( experiment_random_update[1].reshape(n,n),square= True, cbar =False, annot= True )"
   ]
  },
  {
   "cell_type": "code",
   "execution_count": 65,
   "metadata": {},
   "outputs": [
    {
     "data": {
      "text/plain": [
       "<AxesSubplot:>"
      ]
     },
     "execution_count": 65,
     "metadata": {},
     "output_type": "execute_result"
    },
    {
     "data": {
      "image/png": "[encoded data removed]",
      "text/plain": [
       "<Figure size 432x288 with 1 Axes>"
      ]
     },
     "metadata": {
      "needs_background": "light"
     },
     "output_type": "display_data"
    }
   ],
   "source": [
    "sns.heatmap( experiment_random_update[2].reshape(n,n), square= True,cbar =False, annot= True )"
   ]
  },
  {
   "cell_type": "markdown",
   "metadata": {},
   "source": [
    "## Capacity Experiments"
   ]
  },
  {
   "cell_type": "code",
   "execution_count": 11,
   "metadata": {},
   "outputs": [],
   "source": [
    "## Experiment on the capacity of pattern retrieval~~\n",
    "n= 2 \n",
    "N = n*n\n",
    "n_attractors = math.ceil(1.6*N)\n",
    "attractors = [np.random.choice([1, -1], size=N ) for i in range(n_attractors) ]\n",
    "update_steps = 8\n",
    "# plot_attractor(attractors)\n",
    "x_0 = np.random.choice([-1,0,1], size= N)\n",
    "# plot_attractor([x_0], n)\n",
    "\n",
    "## random update\n",
    "q_update_random = np.random.choice(list(range(N)), size= update_steps)\n",
    "experiment_random_update = experiment(x_0, attractors, q_update= q_update_random)\n",
    "\n",
    "## repeated update\n",
    "q_update_s = [i for i in range(N) for j in range(3) ]\n",
    "experiment_repeated_update = experiment(x_0, attractors, q_update= q_update_s)\n",
    "\n",
    "## \n"
   ]
  },
  {
   "cell_type": "markdown",
   "metadata": {},
   "source": [
    "## 2 qubit experiment "
   ]
  },
  {
   "cell_type": "code",
   "execution_count": 12,
   "metadata": {},
   "outputs": [
    {
     "data": {
      "text/plain": [
       "<AxesSubplot:>"
      ]
     },
     "execution_count": 12,
     "metadata": {},
     "output_type": "execute_result"
    },
    {
     "data": {
      "image/png": "[encoded data removed]",
      "text/plain": [
       "<Figure size 432x288 with 2 Axes>"
      ]
     },
     "metadata": {
      "needs_background": "light"
     },
     "output_type": "display_data"
    }
   ],
   "source": [
    "# n = 1\n",
    "N = 2\n",
    "attractors = [np.random.choice([1, -1], size=N ) for i in range(1) ]\n",
    "sns.heatmap(attractors[0].reshape((2,1)), square= True)"
   ]
  },
  {
   "cell_type": "code",
   "execution_count": 13,
   "metadata": {},
   "outputs": [
    {
     "data": {
      "text/plain": [
       "<AxesSubplot:>"
      ]
     },
     "execution_count": 13,
     "metadata": {},
     "output_type": "execute_result"
    },
    {
     "data": {
      "image/png": "[encoded data removed]",
      "text/plain": [
       "<Figure size 432x288 with 2 Axes>"
      ]
     },
     "metadata": {
      "needs_background": "light"
     },
     "output_type": "display_data"
    }
   ],
   "source": [
    "x_0 = np.array([-1,-1])\n",
    "sns.heatmap(x_0.reshape((2,1)), square= True)"
   ]
  },
  {
   "cell_type": "code",
   "execution_count": 14,
   "metadata": {},
   "outputs": [],
   "source": [
    "a,b,c = experiment(x_0, attractors, q_update=[1,1,0,0,1,1,0,0])"
   ]
  },
  {
   "cell_type": "code",
   "execution_count": 15,
   "metadata": {},
   "outputs": [
    {
     "data": {
      "text/plain": [
       "{'00': 1024}"
      ]
     },
     "execution_count": 15,
     "metadata": {},
     "output_type": "execute_result"
    }
   ],
   "source": [
    "execute(a, backend= aer).result().get_counts()"
   ]
  },
  {
   "cell_type": "code",
   "execution_count": 16,
   "metadata": {},
   "outputs": [
    {
     "data": {
      "text/plain": [
       "<AxesSubplot:>"
      ]
     },
     "execution_count": 16,
     "metadata": {},
     "output_type": "execute_result"
    },
    {
     "data": {
      "image/png": "[encoded data removed]",
      "text/plain": [
       "<Figure size 432x288 with 2 Axes>"
      ]
     },
     "metadata": {
      "needs_background": "light"
     },
     "output_type": "display_data"
    }
   ],
   "source": [
    "sns.heatmap(b.reshape((2,1)), square= True , annot= True)"
   ]
  },
  {
   "cell_type": "code",
   "execution_count": 17,
   "metadata": {},
   "outputs": [],
   "source": [
    "q_update = [1,1,2,1]"
   ]
  },
  {
   "cell_type": "code",
   "execution_count": 18,
   "metadata": {},
   "outputs": [
    {
     "ename": "IndexError",
     "evalue": "index 2 is out of bounds for axis 0 with size 2",
     "output_type": "error",
     "traceback": [
      "\u001b[0;31m---------------------------------------------------------------------------\u001b[0m",
      "\u001b[0;31mIndexError\u001b[0m                                Traceback (most recent call last)",
      "\u001b[1;32m/home/rajarsi/Documents/QuantumHopfield.project/QHAM.trial_0.1.ipynb Cell 23'\u001b[0m in \u001b[0;36m<cell line: 21>\u001b[0;34m()\u001b[0m\n\u001b[1;32m     <a href='vscode-notebook-cell:/home/rajarsi/Documents/QuantumHopfield.project/QHAM.trial_0.1.ipynb#ch0000022?line=22'>23</a>\u001b[0m controls \u001b[39m=\u001b[39m [cntrl \u001b[39mfor\u001b[39;00m cntrl \u001b[39min\u001b[39;00m \u001b[39mrange\u001b[39m(l) \u001b[39mif\u001b[39;00m cntrl \u001b[39m!=\u001b[39m qu ]\n\u001b[1;32m     <a href='vscode-notebook-cell:/home/rajarsi/Documents/QuantumHopfield.project/QHAM.trial_0.1.ipynb#ch0000022?line=23'>24</a>\u001b[0m gamma \u001b[39m=\u001b[39m math\u001b[39m.\u001b[39mpi\u001b[39m/\u001b[39m( \u001b[39m4\u001b[39m\u001b[39m*\u001b[39mwm\u001b[39m.\u001b[39mmax()\u001b[39m*\u001b[39m(l\u001b[39m-\u001b[39m\u001b[39m1\u001b[39m) \u001b[39m+\u001b[39m \u001b[39m0.00001\u001b[39m) \u001b[39m#l-1 is because we need size of control layer\u001b[39;00m\n\u001b[0;32m---> <a href='vscode-notebook-cell:/home/rajarsi/Documents/QuantumHopfield.project/QHAM.trial_0.1.ipynb#ch0000022?line=24'>25</a>\u001b[0m beta \u001b[39m=\u001b[39m (math\u001b[39m.\u001b[39mpi\u001b[39m/\u001b[39m\u001b[39m4\u001b[39m)\u001b[39m+\u001b[39mgamma\u001b[39m*\u001b[39m(\u001b[39m-\u001b[39m\u001b[39msum\u001b[39m(wm[qu][controls]))\n\u001b[1;32m     <a href='vscode-notebook-cell:/home/rajarsi/Documents/QuantumHopfield.project/QHAM.trial_0.1.ipynb#ch0000022?line=25'>26</a>\u001b[0m update(qc, qa, controls,\u001b[39m4\u001b[39m\u001b[39m*\u001b[39mgamma\u001b[39m*\u001b[39mwm[qu][controls], \u001b[39m2\u001b[39m\u001b[39m*\u001b[39mbeta )\n\u001b[1;32m     <a href='vscode-notebook-cell:/home/rajarsi/Documents/QuantumHopfield.project/QHAM.trial_0.1.ipynb#ch0000022?line=26'>27</a>\u001b[0m qc\u001b[39m.\u001b[39mswap(qa, qu)\n",
      "\u001b[0;31mIndexError\u001b[0m: index 2 is out of bounds for axis 0 with size 2"
     ]
    }
   ],
   "source": [
    "#classical prep ~\n",
    "l = len(attractors[0])\n",
    "wm = wmatrix(attractors)\n",
    "# wm = W\n",
    "\n",
    "#quantum prep ~\n",
    "qnet = QuantumRegister(l, name='qnet')\n",
    "qa = AncillaRegister(1, name='ancilla')\n",
    "creg = ClassicalRegister(l, name='creg')\n",
    "qc = QuantumCircuit(qnet, qa, creg)\n",
    "for q in range(l+1):\n",
    "    qc.reset(q)\n",
    "for q in range(l):\n",
    "    if(x_0[q] == 1):\n",
    "        qc.x(q)\n",
    "    elif(x_0[q] == 0):\n",
    "        qc.h(q)\n",
    "qc.barrier()\n",
    "\n",
    "#update sub-routine ~~\n",
    "for qu in q_update:\n",
    "    qc.reset(qa)\n",
    "    controls = [cntrl for cntrl in range(l) if cntrl != qu ]\n",
    "    gamma = math.pi/( 4*wm.max()*(l-1) + 0.00001) #l-1 is because we need size of control layer\n",
    "    beta = (math.pi/4)+gamma*(-sum(wm[qu][controls]))\n",
    "    update(qc, qa, controls,4*gamma*wm[qu][controls], 2*beta )\n",
    "    qc.swap(qa, qu)\n",
    "    qc.barrier()\n",
    "    qc.measure(qnet, creg)\n",
    "#measurements ~~\n",
    "# qc.reverse_bits()\n",
    "# qc.measure(qnet, creg)\n",
    "\n",
    "# #update sub-routine ~~\n",
    "# for qu in q_update:\n",
    "#     qc.reset(qa)\n",
    "#     controls = [cntrl for cntrl in range(l) if l!=qu ]\n",
    "#     gamma = math.pi/( 4*wm.max()*(l-1) + 0.00001) #l-1 is because we need size of control layer\n",
    "#     beta = (math.pi/4)+gamma*(-sum(wm[qu][controls]))\n",
    "#     update(qc, qa, controls,4*gamma*wm[qu][controls], 2*beta )\n",
    "#     qc.swap(qa, qu)\n",
    "#     qc.barrier()\n",
    "\n",
    "# #measurements ~~\n",
    "# qc.measure(qnet, creg)    \n",
    "# qc.draw(output='mpl')\n",
    "job = execute(qc, backend= aer, shots= 100)\n",
    "counts = job.result().get_counts()\n",
    "\n",
    "reg_count = np.zeros(l)\n",
    "for key,value in counts.items():\n",
    "    for q in range(l):\n",
    "        if key[q] == '1':\n",
    "            reg_count[q] += value\n",
    "\n",
    "reg_count = np.flip(reg_count/sum(counts.values()))\n",
    "reg_count_ = np.array([0 if reg_count[i]<=0.5 else 1 for i in range(len(reg_count)) ])\n",
    "sns.heatmap(reg_count.reshape(n,n), annot= True )"
   ]
  },
  {
   "cell_type": "code",
   "execution_count": null,
   "metadata": {},
   "outputs": [
    {
     "data": {
      "text/plain": [
       "<AxesSubplot:>"
      ]
     },
     "execution_count": 22,
     "metadata": {},
     "output_type": "execute_result"
    },
    {
     "data": {
      "image/png": "[encoded data removed]",
      "text/plain": [
       "<Figure size 432x288 with 2 Axes>"
      ]
     },
     "metadata": {
      "needs_background": "light"
     },
     "output_type": "display_data"
    }
   ],
   "source": [
    "job = execute(qc, backend= aer, shots= 100)\n",
    "counts = job.result().get_counts()\n",
    "\n",
    "reg_count = np.zeros(l)\n",
    "for key,value in counts.items():\n",
    "    for q in range(l):\n",
    "        if key[q] == '1':\n",
    "            reg_count[q] += value\n",
    "\n",
    "reg_count = np.flip(reg_count/sum(counts.values()))\n",
    "reg_count_ = np.array([0 if reg_count[i]<=0.5 else 1 for i in range(len(reg_count)) ])\n",
    "sns.heatmap(reg_count.reshape(n,n), annot= True )"
   ]
  },
  {
   "cell_type": "code",
   "execution_count": null,
   "metadata": {},
   "outputs": [],
   "source": []
  }
 ],
 "metadata": {
  "kernelspec": {
   "display_name": "Python 3",
   "language": "python",
   "name": "python3"
  },
  "language_info": {
   "codemirror_mode": {
    "name": "ipython",
    "version": 3
   },
   "file_extension": ".py",
   "mimetype": "text/x-python",
   "name": "python",
   "nbconvert_exporter": "python",
   "pygments_lexer": "ipython3",
   "version": "3.8.10"
  },
  "varInspector": {
   "cols": {
    "lenName": 16,
    "lenType": 16,
    "lenVar": 40
   },
   "kernels_config": {
    "python": {
     "delete_cmd_postfix": "",
     "delete_cmd_prefix": "del ",
     "library": "var_list.py",
     "varRefreshCmd": "print(var_dic_list())"
    },
    "r": {
     "delete_cmd_postfix": ") ",
     "delete_cmd_prefix": "rm(",
     "library": "var_list.r",
     "varRefreshCmd": "cat(var_dic_list()) "
    }
   },
   "types_to_exclude": [
    "module",
    "function",
    "builtin_function_or_method",
    "instance",
    "_Feature"
   ],
   "window_display": false
  }
 },
 "nbformat": 4,
 "nbformat_minor": 4
}
