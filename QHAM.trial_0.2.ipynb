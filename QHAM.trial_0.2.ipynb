{
 "cells": [
  {
   "cell_type": "markdown",
   "metadata": {},
   "source": [
    "## Setup "
   ]
  },
  {
   "cell_type": "code",
   "execution_count": 1,
   "metadata": {
    "ExecuteTime": {
     "end_time": "2022-03-22T04:45:54.220449Z",
     "start_time": "2022-03-22T04:45:52.110332Z"
    }
   },
   "outputs": [
    {
     "data": {
      "text/plain": [
       "'0.19.2'"
      ]
     },
     "execution_count": 1,
     "metadata": {},
     "output_type": "execute_result"
    }
   ],
   "source": [
    "## imports\n",
    "import qiskit\n",
    "from qiskit import *\n",
    "%matplotlib inline\n",
    "from qiskit.tools.visualization import plot_histogram\n",
    "from qiskit.providers.aer.noise import NoiseModel\n",
    "import qiskit.providers.aer.noise as noise\n",
    "#import qiskit.providers.models as mods\n",
    "import math\n",
    "import matplotlib\n",
    "import matplotlib.pyplot as plt\n",
    "from matplotlib import cm\n",
    "from matplotlib.colors import ListedColormap, LinearSegmentedColormap\n",
    "import numpy as np\n",
    "from matplotlib.ticker import FuncFormatter, MultipleLocator, FormatStrFormatter\n",
    "from qiskit.tools.monitor import job_monitor\n",
    "from qiskit.circuit import Parameter\n",
    "import seaborn as sns\n",
    "import pandas as pd\n",
    "from pprint import pprint\n",
    "\n",
    "#import matplotlib as mpl\n",
    "# matplotlib.rc('font',family='arial')\n",
    "\n",
    "qiskit.__version__"
   ]
  },
  {
   "cell_type": "code",
   "execution_count": 2,
   "metadata": {
    "ExecuteTime": {
     "end_time": "2022-03-22T04:46:57.347128Z",
     "start_time": "2022-03-22T04:46:47.709838Z"
    }
   },
   "outputs": [],
   "source": [
    "provider = IBMQ.load_account()\n",
    "IBMQ.get_provider(hub='ibm-q-education', group='iit-madras-1', project='quantum-computin')\n",
    "## setup required backends \n",
    "lima = provider.get_backend('ibmq_lima')\n",
    "manila = provider.get_backend('ibmq_manila')\n",
    "# mumbai = provider.get_backend('ibmq_mumbai')\n",
    "#melbourne = provider.get_backend('ibmq_melbourne')\n",
    "aer = Aer.get_backend('aer_simulator')\n",
    "qsm_simulator = Aer.get_backend('qasm_simulator')\n",
    "stv_simulator = Aer.get_backend('statevector_simulator')\n",
    "\n",
    "#device = provider.get_backend('ibmq_16_melbourne') #ibmq_16_melbourne ibmqx2\n",
    "#noise_model = NoiseModel.from_backend(device)\n",
    "#pprint(vars(provider.backends))"
   ]
  },
  {
   "cell_type": "markdown",
   "metadata": {},
   "source": [
    "## Circuit"
   ]
  },
  {
   "cell_type": "code",
   "execution_count": 3,
   "metadata": {},
   "outputs": [],
   "source": [
    "## helper functions ~\n",
    "def wmatrix(attractors):\n",
    "    \"\"\" Pass the attractors to be stored as a list 'attractors' \n",
    "        NB~ attractors should be column vectors \"\"\"   \n",
    "    l = len(attractors[0])\n",
    "    wm = np.zeros((l, l))\n",
    "\n",
    "    for atractr in attractors:\n",
    "        wm += np.outer(atractr, atractr)\n",
    "    return wm\n",
    "\n",
    "def update(qc, qubit, cntrl_reg, phi, bias):\n",
    "    \"\"\" Update 'qubit' of the circuit 'qc' \n",
    "    using 'cntrl_reg': the control qubits \"\"\"\n",
    "    cntrls = len(cntrl_reg)\n",
    "    for cntrl in range(cntrls):\n",
    "        qc.cry((phi[cntrl]), cntrl_reg[cntrl], qubit)\n",
    "    qc.ry(bias, qubit)\n",
    "    #qc.barrier()\n",
    "\n",
    "def plot_attractor(attractors,n):\n",
    "    plt.figure(figsize=(12,10))\n",
    "    for a in range(len(attractors)):\n",
    "        plt.subplot(3, 4, a+1)\n",
    "        plt.title(\"Config \"+ str(a)+ \": \")\n",
    "        sns.heatmap(attractors[a].reshape((n,n)), xticklabels=False, yticklabels=False, cbar=False)\n",
    "\n",
    "\n",
    "## main driver code ~\n",
    "def experiment( x_0, attractors, N, q_update):\n",
    "    \n",
    "    #classical prep ~\n",
    "    l = len(attractors[0])\n",
    "    wm = wmatrix(attractors)\n",
    "    \n",
    "    #quantum prep ~\n",
    "    qnet = QuantumRegister(l, name='qnet')\n",
    "    qa = AncillaRegister(1, name='ancilla')\n",
    "    #creg = ClassicalRegister(l, name='creg')\n",
    "    qc = QuantumCircuit(qnet, qa)\n",
    "    for q in range(l+1):\n",
    "        qc.reset(q)\n",
    "    for q in range(l):\n",
    "        if(x_0[q] == 1):\n",
    "            qc.x(q)\n",
    "        elif(x_0[q] == 0):\n",
    "            qc.h(q)\n",
    "    qc.barrier()\n",
    "\n",
    "    #update sub-routine ~~\n",
    "    for qu in q_update:\n",
    "        qc.reset(qa)\n",
    "        controls = [cntrl for cntrl in range(l) if l!=qu ]\n",
    "        gamma = math.pi/( 4*wm.max()*(l-1) ) #n-1 is because we need size of control layer\n",
    "        beta = (math.pi/4)+gamma*(-sum(wm[qu][controls]))\n",
    "        update(qc, qa, controls,4*gamma*wm[qu][controls], 2*beta )\n",
    "        qc.swap(qa, qu)\n",
    "        \n",
    "    #measurements ~~\n",
    "    for q in range(l):\n",
    "        qc.measure(q, l-q-1)\n",
    "    \n",
    "    ##execute ~~\n",
    "    job = execute(qc, backend= aer, shots= 1200)\n",
    "    counts = job.result().get_counts()\n",
    "\n",
    "    reg_count = np.zeros(l)\n",
    "    for key,value in counts.items():\n",
    "        for q in range(l):\n",
    "             if key[q] == '1':\n",
    "                reg_count[q] += value\n",
    "    reg_count = np.flip(reg_count/sum(counts.values()))\n",
    "    reg_count_classical = np.array([0 if reg_count[i]<=0.5 else 1 for i in range(len(reg_count)) ])\n",
    "\n",
    "\n",
    "    return reg_count, reg_count_classical\n"
   ]
  },
  {
   "cell_type": "code",
   "execution_count": 4,
   "metadata": {},
   "outputs": [
    {
     "data": {
      "image/png": "[encoded data removed]",
      "text/plain": [
       "<Figure size 864x720 with 2 Axes>"
      ]
     },
     "metadata": {},
     "output_type": "display_data"
    }
   ],
   "source": [
    "n = 4  \n",
    "N = n*n\n",
    "attractors = [np.random.choice([1, -1], size=N ) for i in range(2) ]\n",
    "plot_attractor(attractors, n)"
   ]
  },
  {
   "cell_type": "code",
   "execution_count": 5,
   "metadata": {},
   "outputs": [
    {
     "data": {
      "image/png": "[encoded data removed]",
      "text/plain": [
       "<Figure size 864x720 with 1 Axes>"
      ]
     },
     "metadata": {},
     "output_type": "display_data"
    }
   ],
   "source": [
    "x_0 = np.random.choice([-1,1], size= N)\n",
    "plot_attractor([x_0], n)"
   ]
  },
  {
   "cell_type": "code",
   "execution_count": 6,
   "metadata": {},
   "outputs": [],
   "source": [
    "q_update= np.random.choice(range(16), size= 16)"
   ]
  },
  {
   "cell_type": "code",
   "execution_count": 7,
   "metadata": {},
   "outputs": [],
   "source": [
    "#classical prep ~\n",
    "l = len(attractors[0])\n",
    "wm = wmatrix(attractors)\n",
    "\n",
    "#quantum prep ~\n",
    "qnet = QuantumRegister(l, name='qnet')\n",
    "qa = AncillaRegister(1, name='ancilla')\n",
    "clreg = ClassicalRegister(l, name='creg')\n",
    "qc = QuantumCircuit(qnet, qa, clreg)\n",
    "\n",
    "for q in range(l+1):\n",
    "    qc.reset(q)\n",
    "for q in range(l):\n",
    "    if(x_0[q] == 1):\n",
    "        qc.x(q)\n",
    "    elif(x_0[q] == 0):\n",
    "        qc.h(q)\n",
    "qc.barrier()\n",
    "\n",
    "#update sub-routine ~~\n",
    "for qu in q_update:\n",
    "    qc.reset(qa)\n",
    "    controls = [cntrl for cntrl in range(l) if cntrl != qu ]\n",
    "    gamma = math.pi/( 4*wm.max()*(l-1) + 0.00001) #l-1 is because we need size of control layer\n",
    "    beta = (math.pi/4)+gamma*(-sum(wm[qu][controls]))\n",
    "    update(qc, qa, controls,4*gamma*wm[qu][controls], 2*beta )\n",
    "    qc.swap(qa, qu)\n",
    "    qc.barrier()\n",
    "    qc.measure(qnet, clreg)    \n",
    "\n",
    "\n",
    "#measurements ~~\n",
    "# qc.measure(qnet, clreg)\n",
    "\n",
    "##execute ~~\n",
    "job = execute(qc, backend= aer, shots= 1200)\n",
    "counts = job.result().get_counts()\n",
    "\n",
    "reg_count = np.zeros(l)\n",
    "for key,value in counts.items():\n",
    "    for q in range(l):\n",
    "            if key[q] == '1':\n",
    "                reg_count[q] += value\n",
    "\n",
    "reg_count = np.flip(reg_count/sum(counts.values()))\n",
    "reg_count_classical = np.array([0 if reg_count[i]<=0.5 else 1 for i in range(len(reg_count)) ])"
   ]
  },
  {
   "cell_type": "code",
   "execution_count": 16,
   "metadata": {},
   "outputs": [],
   "source": [
    "# qc.draw(output='mpl')"
   ]
  },
  {
   "cell_type": "code",
   "execution_count": 8,
   "metadata": {},
   "outputs": [
    {
     "data": {
      "text/plain": [
       "<AxesSubplot:>"
      ]
     },
     "execution_count": 8,
     "metadata": {},
     "output_type": "execute_result"
    },
    {
     "data": {
      "image/png": "[encoded data removed]",
      "text/plain": [
       "<Figure size 432x288 with 2 Axes>"
      ]
     },
     "metadata": {
      "needs_background": "light"
     },
     "output_type": "display_data"
    }
   ],
   "source": [
    "sns.heatmap(reg_count.reshape(n,n), annot= True )"
   ]
  },
  {
   "cell_type": "code",
   "execution_count": 9,
   "metadata": {},
   "outputs": [
    {
     "data": {
      "text/plain": [
       "<AxesSubplot:>"
      ]
     },
     "execution_count": 9,
     "metadata": {},
     "output_type": "execute_result"
    },
    {
     "data": {
      "image/png": "[encoded data removed]",
      "text/plain": [
       "<Figure size 432x288 with 2 Axes>"
      ]
     },
     "metadata": {
      "needs_background": "light"
     },
     "output_type": "display_data"
    }
   ],
   "source": [
    "sns.heatmap(reg_count_classical.reshape(n,n), annot= True )"
   ]
  },
  {
   "cell_type": "code",
   "execution_count": 10,
   "metadata": {},
   "outputs": [
    {
     "data": {
      "image/png": "[encoded data removed]",
      "text/plain": [
       "<Figure size 864x720 with 2 Axes>"
      ]
     },
     "metadata": {},
     "output_type": "display_data"
    }
   ],
   "source": [
    "plot_attractor(attractors, n)"
   ]
  },
  {
   "cell_type": "code",
   "execution_count": 11,
   "metadata": {},
   "outputs": [
    {
     "data": {
      "image/png": "[encoded data removed]",
      "text/plain": [
       "<Figure size 864x720 with 1 Axes>"
      ]
     },
     "metadata": {},
     "output_type": "display_data"
    }
   ],
   "source": [
    "plot_attractor([x_0], n)"
   ]
  },
  {
   "cell_type": "code",
   "execution_count": null,
   "metadata": {},
   "outputs": [],
   "source": []
  }
 ],
 "metadata": {
  "kernelspec": {
   "display_name": "Python 3",
   "language": "python",
   "name": "python3"
  },
  "language_info": {
   "codemirror_mode": {
    "name": "ipython",
    "version": 3
   },
   "file_extension": ".py",
   "mimetype": "text/x-python",
   "name": "python",
   "nbconvert_exporter": "python",
   "pygments_lexer": "ipython3",
   "version": "3.8.10"
  },
  "varInspector": {
   "cols": {
    "lenName": 16,
    "lenType": 16,
    "lenVar": 40
   },
   "kernels_config": {
    "python": {
     "delete_cmd_postfix": "",
     "delete_cmd_prefix": "del ",
     "library": "var_list.py",
     "varRefreshCmd": "print(var_dic_list())"
    },
    "r": {
     "delete_cmd_postfix": ") ",
     "delete_cmd_prefix": "rm(",
     "library": "var_list.r",
     "varRefreshCmd": "cat(var_dic_list()) "
    }
   },
   "types_to_exclude": [
    "module",
    "function",
    "builtin_function_or_method",
    "instance",
    "_Feature"
   ],
   "window_display": false
  }
 },
 "nbformat": 4,
 "nbformat_minor": 4
}
